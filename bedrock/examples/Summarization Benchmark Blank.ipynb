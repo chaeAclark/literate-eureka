{
 "cells": [
  {
   "cell_type": "markdown",
   "id": "8a0ba948-d0f0-4f42-b468-d40354c717e3",
   "metadata": {},
   "source": [
    "# Words\n",
    "**Description**: Words"
   ]
  },
  {
   "cell_type": "markdown",
   "id": "76e16278-6b1a-416c-9436-332e99a0b1e2",
   "metadata": {},
   "source": [
    "### Model List\n",
    "\n",
    "#### Amazon\n",
    "- us.amazon.nova-micro-v1:0\n",
    "- us.amazon.nova-lite-v1:0\n",
    "- us.amazon.nova-pro-v1:0\n",
    "\n",
    "#### Meta\n",
    "- us.meta.llama3-2-1b-instruct-v1:0\n",
    "- us.meta.llama3-2-3b-instruct-v1:0\n",
    "- us.meta.llama3-1-8b-instruct-v1:0\n",
    "- us.meta.llama3-2-11b-instruct-v1:0\n",
    "\n",
    "#### Anthropic\n",
    "- us.anthropic.claude-3-5-haiku-20241022-v1:0\n",
    "- us.anthropic.claude-3-7-sonnet-20250219-v1:0"
   ]
  },
  {
   "cell_type": "markdown",
   "id": "84a4bbb5-2b0b-4fab-8e8a-599505065f16",
   "metadata": {},
   "source": [
    "## Install"
   ]
  },
  {
   "cell_type": "code",
   "execution_count": 1,
   "id": "b77f3164-62a1-4ce8-aa65-3a03bb898771",
   "metadata": {},
   "outputs": [],
   "source": [
    "!pip install seaborn -q"
   ]
  },
  {
   "cell_type": "markdown",
   "id": "fe10a57b-26df-405b-8bda-5eb68359b8df",
   "metadata": {},
   "source": [
    "## Import"
   ]
  },
  {
   "cell_type": "code",
   "execution_count": 2,
   "id": "99a8f4ac-5636-443a-899f-2fa84538c96a",
   "metadata": {},
   "outputs": [],
   "source": [
    "import time\n",
    "import boto3\n",
    "import random\n",
    "import warnings\n",
    "import concurrent.futures\n",
    "\n",
    "import numpy as np\n",
    "import seaborn as sns\n",
    "import matplotlib.pyplot as plt\n",
    "\n",
    "from typing import Dict, Any\n",
    "from botocore.exceptions import ClientError"
   ]
  },
  {
   "cell_type": "code",
   "execution_count": 3,
   "id": "91253053-1cb7-4a12-969f-955a92de3596",
   "metadata": {},
   "outputs": [],
   "source": [
    "sns.set(style=\"white\")"
   ]
  },
  {
   "cell_type": "markdown",
   "id": "f4d5199c-9b60-405b-8036-7ee15a87f8e0",
   "metadata": {},
   "source": [
    "### Methods"
   ]
  },
  {
   "cell_type": "code",
   "execution_count": 4,
   "id": "f479ff1c-d192-4138-bbdd-242673b74014",
   "metadata": {},
   "outputs": [],
   "source": [
    "def converse(user_content, assistant_content, model_id, system=None, temperature=0.01, max_tokens=1024, region='us-east-1'):\n",
    "    bedrock = boto3.client('bedrock-runtime', region)\n",
    "\n",
    "    messages = [{'role': 'user', 'content': user_content}]\n",
    "    messages = messages if assistant_content is None else  messages + [{'role': 'assistant', 'content': assistant_content}]\n",
    "\n",
    "    system = [{'text': 'You are a helpful assistant.'}] if system is None else system\n",
    "    inferenceConfig = {'maxTokens': max_tokens, 'temperature': temperature}\n",
    "    response = bedrock.converse(\n",
    "        modelId=model_id,\n",
    "        inferenceConfig=inferenceConfig,\n",
    "        system=system,\n",
    "        messages=messages,\n",
    "    )\n",
    "    return response"
   ]
  },
  {
   "cell_type": "code",
   "execution_count": 5,
   "id": "c673a0c3-c2c6-49e9-a7b7-3ff0259c95bf",
   "metadata": {},
   "outputs": [],
   "source": [
    "def converse_summary(doc_list, prompt_text='Summarize the above docs.', model_id='us.amazon.nova-lite-v1:0', system_text=None, response_start=None):\n",
    "    system = system_text if system_text is None else [{'text': system_text}]\n",
    "    prompt_text = '\\n\\n'.join(doc_list + [prompt_text])\n",
    "    prompt = [{'text': prompt_text}]\n",
    "    assistant_content = response_start if response_start is None else [{'text': response_start}]\n",
    "    response = converse(\n",
    "        user_content=prompt,\n",
    "        assistant_content=assistant_content,\n",
    "        model_id=model_id,\n",
    "        system=system,\n",
    "        temperature=0.01,\n",
    "        max_tokens=1024\n",
    "    )\n",
    "    summary = response['output']['message']['content'][0]['text']\n",
    "    if not response_start is None:\n",
    "        summary = response_start + summary\n",
    "    return summary, int(response.get('usage').get('inputTokens')), int(response.get('usage').get('outputTokens')), int(response.get('metrics').get('latencyMs'))"
   ]
  },
  {
   "cell_type": "code",
   "execution_count": 6,
   "id": "06c0fa57-8bee-40f6-bc5f-c00f02f27392",
   "metadata": {},
   "outputs": [],
   "source": [
    "SUPPORTED_MODEL_COST = {\n",
    "    'us.amazon.nova-micro-v1:0': [0.000035, 0.00014, 'Nova Micro'],\n",
    "    'us.amazon.nova-lite-v1:0': [0.00006, 0.00024, 'Nova Lite'],\n",
    "    'us.amazon.nova-pro-v1:0': [0.0008, 0.0002, 'Nova Pro'],\n",
    "    'us.meta.llama3-2-1b-instruct-v1:0': [0.0001, 0.0001, 'Llama 1B'],\n",
    "    'us.meta.llama3-2-3b-instruct-v1:0': [0.00015, 0.00015, 'Llama 3B'],\n",
    "    'us.meta.llama3-1-8b-instruct-v1:0': [0.00022, 0.00022, 'Llama 8B'],\n",
    "    'us.meta.llama3-2-11b-instruct-v1:0': [0.00016, 0.00016, 'Llama 11B'],\n",
    "    'us.anthropic.claude-3-5-haiku-20241022-v1:0': [0.0008, 0.004, 'Haiku 3.5'],\n",
    "    'us.anthropic.claude-3-7-sonnet-20250219-v1:0': [0.003, 0.015, 'Sonnet 3.7'],\n",
    "}\n",
    "\n",
    "MODELS = list(SUPPORTED_MODEL_COST.keys())[:-1]\n",
    "\n",
    "def model_price(tokens_in: int, tokens_out: int, model_id: str) -> float:\n",
    "    if model_id not in SUPPORTED_MODEL_COST.keys():\n",
    "        warnings.warn(f'Model ID: \"{model_id}\" is not in the list of supported models.\\n{SUPPORTED_MODEL_COST.keys()}')\n",
    "        return None\n",
    "\n",
    "    cost_in = SUPPORTED_MODEL_COST.get(model_id)[0] * tokens_in / 1000.\n",
    "    cost_out = SUPPORTED_MODEL_COST.get(model_id)[1] * tokens_out / 1000.\n",
    "    cost_total = cost_in + cost_out\n",
    "    return cost_total"
   ]
  },
  {
   "cell_type": "code",
   "execution_count": null,
   "id": "f790b77c-5f91-4f6a-b0e7-7576468be0b4",
   "metadata": {},
   "outputs": [],
   "source": []
  },
  {
   "cell_type": "markdown",
   "id": "334592de-495b-4ffb-b8eb-87b00bbee3dc",
   "metadata": {},
   "source": [
    "#### Test Methods"
   ]
  },
  {
   "cell_type": "code",
   "execution_count": 7,
   "id": "a1e92840-8f8d-488a-bd9b-81fcc72d0d2f",
   "metadata": {},
   "outputs": [
    {
     "name": "stdout",
     "output_type": "stream",
     "text": [
      "\n",
      "\n",
      "Here's a summary of the Amazon Bedrock documentation:\n",
      "\n",
      "**What is Amazon Bedrock?**\n",
      "\n",
      "Amazon Bedrock is a fully managed service that allows users to build and scale generative AI applications with foundation models (FMs) from leading AI companies. It provides a single API to access a range of high-performing FMs, making it easy to experiment, evaluate, and customize models for specific use cases.\n",
      "\n",
      "**Key Features**\n",
      "\n",
      "* Choose from a range of leading FMs from top AI companies\n",
      "* Customize models with private data using techniques like fine-tuning and Retrieval Augmented Generation (RAG)\n",
      "* Build agents that execute tasks using enterprise systems and data sources\n",
      "* Serverless infrastructure management\n",
      "* Secure integration and deployment of generative AI capabilities using AWS services\n",
      "\n",
      "**Benefits**\n",
      "\n",
      "* Rapid adaptation to the latest generative AI innovations\n",
      "* Easy access to a wide range of FMs\n",
      "* Minimal code changes required to upgrade to new model versions\n",
      "* Secure and responsible AI development\n",
      "\n",
      "**Use Cases**\n",
      "\n",
      "* Building generative AI applications with customer data\n",
      "* Creating new customer experiences using generative AI\n",
      "* Automating data processing and analysis\n",
      "\n",
      "Overall, Amazon Bedrock provides a comprehensive platform for building and scaling generative AI applications, making it easier for developers to experiment, evaluate, and deploy AI models in a secure and responsible manner.\n",
      "519\n",
      "272\n",
      "3251\n"
     ]
    }
   ],
   "source": [
    "doc1 = '''\n",
    "Amazon Bedrock\n",
    "The easiest way to build and scale generative AI applications with foundation models\n",
    "Get started with Amazon Bedrock\n",
    "Try free demo\n",
    "What is Amazon Bedrock?\n",
    "Amazon Bedrock is a fully managed service that offers a choice of high-performing foundation models (FMs) from leading AI companies like AI21 Labs, Anthropic, Cohere, DeepSeek, Luma, Meta, Mistral AI, poolside (coming soon), Stability AI, and Amazon through a single API, along with a broad set of capabilities you need to build generative AI applications with security, privacy, and responsible AI. Using Amazon Bedrock, you can easily experiment with and evaluate top FMs for your use case, privately customize them with your data using techniques such as fine-tuning and Retrieval Augmented Generation (RAG), and build agents that execute tasks using your enterprise systems and data sources. Since Amazon Bedrock is serverless, you don't have to manage any infrastructure, and you can securely integrate and deploy generative AI capabilities into your applications using the AWS services you are already familiar with.\n",
    "\n",
    "Learn more about Amazon Bedrock developer experience\n",
    "\n",
    "\n",
    "How customers are innovating with generative AI on Amazon Bedrock\n",
    "See the full Amazon Bedrock customer stories playlist\n",
    "\n",
    "\n",
    "Amazon Bedrock demo\n",
    "Watch this video to see Swami Sivasubramanian, Vice President of Data and AI at AWS, walk through a demo highlighting how you can create new customer experiences using Amazon Bedrock in your organization to build generative AI applications with your data.\n",
    "\n",
    "\n",
    "Everything you need to build generative AI applications\n",
    "\n",
    "Model choice\n",
    "\n",
    "Customization\n",
    "\n",
    "RAG\n",
    "\n",
    "Agents\n",
    "\n",
    "Data Automation\n",
    "Choose from a range of leading FMs\n",
    "Amazon Bedrock helps you rapidly adapt and take advantage of the latest generative AI innovations with easy access to a choice of high-performing FMs from leading AI companies like AI21 Labs, Anthropic, Cohere, DeepSeek, Luma, Meta, Mistral AI, poolside (coming soon), Stability AI, and Amazon. In addition. Amazon Bedrock Marketplace, lets you discover, test, and use over 100 popular, emerging and specialized FMs on fully managed endpoints. The single-API access of Amazon Bedrock, regardless of the models you choose, gives you the flexibility to use different FMs and upgrade to the latest model versions with minimal code changes.\n",
    "\n",
    "Learn more about Custom Model Import for Amazon Bedrock\n",
    "'''\n",
    "doc_list = [doc1]\n",
    "prompt_text = 'Summarize the above documents.'\n",
    "model_id = 'us.meta.llama3-1-8b-instruct-v1:0'\n",
    "summary, in_tokens, out_tokens, latency = converse_summary(doc_list, prompt_text, model_id, system_text=None)\n",
    "print(summary)\n",
    "print(in_tokens)\n",
    "print(out_tokens)\n",
    "print(latency)"
   ]
  },
  {
   "cell_type": "code",
   "execution_count": 8,
   "id": "39c00674-2e00-4820-9512-30797ef2abef",
   "metadata": {},
   "outputs": [
    {
     "name": "stdout",
     "output_type": "stream",
     "text": [
      "43.2\n",
      "None\n"
     ]
    },
    {
     "name": "stderr",
     "output_type": "stream",
     "text": [
      "/tmp/ipykernel_11862/4045191055.py:17: UserWarning: Model ID: \"us.deepseek.r1-v1:0\" is not in the list of supported models.\n",
      "dict_keys(['us.amazon.nova-micro-v1:0', 'us.amazon.nova-lite-v1:0', 'us.amazon.nova-pro-v1:0', 'us.meta.llama3-2-1b-instruct-v1:0', 'us.meta.llama3-2-3b-instruct-v1:0', 'us.meta.llama3-1-8b-instruct-v1:0', 'us.meta.llama3-2-11b-instruct-v1:0', 'us.anthropic.claude-3-5-haiku-20241022-v1:0', 'us.anthropic.claude-3-7-sonnet-20250219-v1:0'])\n",
      "  warnings.warn(f'Model ID: \"{model_id}\" is not in the list of supported models.\\n{SUPPORTED_MODEL_COST.keys()}')\n"
     ]
    }
   ],
   "source": [
    "in_tokens = 800 * 10000 * 30 # tokens in per search * searches per day * days in the month\n",
    "out_tokens = 400 * 10000 * 30 # tokens out per search * searches per day * days in the month\n",
    "model_id = 'us.amazon.nova-lite-v1:0'\n",
    "monthly_cost = model_price(tokens_in=in_tokens, tokens_out=out_tokens, model_id=model_id)\n",
    "print(monthly_cost)\n",
    "\n",
    "model_id = 'us.deepseek.r1-v1:0'\n",
    "monthly_cost = model_price(tokens_in=in_tokens, tokens_out=out_tokens, model_id=model_id)\n",
    "print(monthly_cost)"
   ]
  },
  {
   "cell_type": "markdown",
   "id": "79141ca5-75ba-455e-868d-9240dfe882a4",
   "metadata": {},
   "source": [
    "## Data"
   ]
  },
  {
   "cell_type": "markdown",
   "id": "4cb9a33d-8f0f-4ee4-8f07-d74c948c73cf",
   "metadata": {},
   "source": [
    "### Example Documents"
   ]
  },
  {
   "cell_type": "markdown",
   "id": "7deeaa11-620c-41fb-9b3a-edb07d11f001",
   "metadata": {},
   "source": [
    "##### Source: "
   ]
  },
  {
   "cell_type": "code",
   "execution_count": 9,
   "id": "f97da74e-e88c-41bf-a66a-b8b37be0ec5d",
   "metadata": {},
   "outputs": [],
   "source": [
    "example_doc_1 = '''\n",
    "doc 1\n",
    "'''"
   ]
  },
  {
   "cell_type": "markdown",
   "id": "a6bea6fc-e886-465f-8ef8-a980565cc9e3",
   "metadata": {},
   "source": [
    "##### Source:"
   ]
  },
  {
   "cell_type": "code",
   "execution_count": 10,
   "id": "2aace43c-faee-4913-a969-673a3d192904",
   "metadata": {},
   "outputs": [],
   "source": [
    "example_doc_2 = '''\n",
    "doc 2\n",
    "'''"
   ]
  },
  {
   "cell_type": "markdown",
   "id": "4f74fd89-eb35-4b1b-8bba-6db1c730fa1e",
   "metadata": {},
   "source": [
    "##### Source:"
   ]
  },
  {
   "cell_type": "code",
   "execution_count": 11,
   "id": "914e4742-aeb1-4b36-9bab-a152c7532a34",
   "metadata": {},
   "outputs": [],
   "source": [
    "example_doc_3 = '''\n",
    "doc 3\n",
    "'''"
   ]
  },
  {
   "cell_type": "markdown",
   "id": "a1635a14-8d3c-4ba2-b043-2c33538f86f5",
   "metadata": {},
   "source": [
    "##### Source:"
   ]
  },
  {
   "cell_type": "code",
   "execution_count": 12,
   "id": "d12adbfb-e34d-47fc-a746-660bf4f18ba9",
   "metadata": {},
   "outputs": [],
   "source": [
    "example_doc_4 = '''\n",
    "doc 4\n",
    "'''"
   ]
  },
  {
   "cell_type": "markdown",
   "id": "8f640e4f-ef3c-464d-9fff-cbaac5a549af",
   "metadata": {},
   "source": [
    "##### Source:"
   ]
  },
  {
   "cell_type": "code",
   "execution_count": 13,
   "id": "444d8ca1-14c7-42a3-a786-65122f87f5b7",
   "metadata": {},
   "outputs": [],
   "source": [
    "example_doc_5 = '''\n",
    "doc 5\n",
    "'''"
   ]
  },
  {
   "cell_type": "markdown",
   "id": "de0f3ba6-bfc4-444e-8a8b-8eafb49a674e",
   "metadata": {},
   "source": [
    "##### Source:"
   ]
  },
  {
   "cell_type": "code",
   "execution_count": 14,
   "id": "0d0852d9-49e9-4a93-8ef6-dcc855364684",
   "metadata": {},
   "outputs": [],
   "source": [
    "example_doc_6 = '''\n",
    "doc 6\n",
    "'''"
   ]
  },
  {
   "cell_type": "markdown",
   "id": "899b3230-68d8-4930-9ead-3cf91ec8a21b",
   "metadata": {},
   "source": [
    "##### Source:"
   ]
  },
  {
   "cell_type": "code",
   "execution_count": 15,
   "id": "f6f353ca-5e87-4752-9f41-e22658af4fa3",
   "metadata": {},
   "outputs": [],
   "source": [
    "example_doc_7 = '''\n",
    "doc 7\n",
    "'''"
   ]
  },
  {
   "cell_type": "markdown",
   "id": "91e2960b-0f77-4429-9db9-82a8b7010e9f",
   "metadata": {},
   "source": [
    "##### Source:"
   ]
  },
  {
   "cell_type": "code",
   "execution_count": 16,
   "id": "80506f59-0730-4420-8dd5-ff2aa5a817d0",
   "metadata": {},
   "outputs": [],
   "source": [
    "example_doc_8 = '''\n",
    "doc 8\n",
    "'''"
   ]
  },
  {
   "cell_type": "markdown",
   "id": "82434527-7bd7-4cac-89a7-ad6bd11224c7",
   "metadata": {},
   "source": [
    "##### Source:"
   ]
  },
  {
   "cell_type": "code",
   "execution_count": 17,
   "id": "fe0a3052-4155-4712-84ec-3280bde64797",
   "metadata": {},
   "outputs": [],
   "source": [
    "example_doc_9 = '''\n",
    "doc 9\n",
    "'''"
   ]
  },
  {
   "cell_type": "code",
   "execution_count": 18,
   "id": "60bcf9a2-2601-4c96-a16f-66f0c71d13a8",
   "metadata": {},
   "outputs": [],
   "source": [
    "DOCUMENTS = [example_doc_1, example_doc_2, example_doc_3, example_doc_4, example_doc_5, example_doc_6, example_doc_7, example_doc_8, example_doc_9]"
   ]
  },
  {
   "cell_type": "markdown",
   "id": "fe264bec-f458-4f67-8c48-005f339efc70",
   "metadata": {},
   "source": [
    "## Prompts"
   ]
  },
  {
   "cell_type": "markdown",
   "id": "ed6c82cb-9916-4261-ac67-4be787497933",
   "metadata": {},
   "source": [
    "#### System Prompts"
   ]
  },
  {
   "cell_type": "code",
   "execution_count": 19,
   "id": "816130c4-8c50-4a3e-aaf2-9803a3def997",
   "metadata": {},
   "outputs": [],
   "source": [
    "SYSTEM_BASE = '''\n",
    "You are a summarization assistant.\n",
    "You are tasked with giving a short and meaningful summary of our products and spec pages returned in a search.\n",
    "This will be presented to extrnal users, so return summaries that answer the question based on the user request.\n",
    "The summaries should be short and to the point.\n",
    "Use no more than 500 words.\n",
    "Format the output as a markdown document without a title.\n",
    "'''"
   ]
  },
  {
   "cell_type": "markdown",
   "id": "a29c6d1f-8c58-4a6c-b96f-21e3cecccce4",
   "metadata": {},
   "source": [
    "#### Summary Prompts"
   ]
  },
  {
   "cell_type": "code",
   "execution_count": 20,
   "id": "8d85debe-a20b-47d3-8ce6-3b7bcfb072e6",
   "metadata": {},
   "outputs": [],
   "source": [
    "PROMPT_BASE = '''\n",
    "Summarize the above documents.\n",
    "Produce a markdown document without a title in <markdown></markdown> tags.\n",
    "'''"
   ]
  },
  {
   "cell_type": "markdown",
   "id": "1577621c-d38b-4c03-9897-0c753b90bd5e",
   "metadata": {},
   "source": [
    "## Benchmark Models\n",
    "**Description**:"
   ]
  },
  {
   "cell_type": "markdown",
   "id": "1b2c3d43-e60e-4345-abdb-5458da5d9a42",
   "metadata": {},
   "source": [
    "### Benchmark Methods"
   ]
  },
  {
   "cell_type": "code",
   "execution_count": 21,
   "id": "f47d3ffb-276b-4533-aa23-8d736c29d183",
   "metadata": {},
   "outputs": [],
   "source": [
    "def run_summary_trials(\n",
    "    documents,\n",
    "    doc_sample=3,\n",
    "    trials=10,\n",
    "    parse_tags=('<markdown>', '</markdown>'),\n",
    "    prompt_text=PROMPT_BASE,\n",
    "    model_id='us.amazon.nova-lite-v1:0',\n",
    "    system_text=SYSTEM_BASE,\n",
    "    response_start='<markdown>'\n",
    "):\n",
    "    cost_list = []\n",
    "    latency_list = []\n",
    "    parse_list = []\n",
    "    summary_list = []\n",
    "    if '.meta.' in model_id:\n",
    "        response_start = None\n",
    "\n",
    "    for _ in range(trials):\n",
    "        doc_list = random.sample(documents, doc_sample)\n",
    "        try:\n",
    "            summary, in_tokens, out_tokens, latency = converse_summary(doc_list, prompt_text, model_id, system_text, response_start)\n",
    "            latency_list.append(latency)\n",
    "            cost_list.append(model_price(tokens_in=in_tokens, tokens_out=out_tokens, model_id=model_id))\n",
    "            summary_list.append(summary)\n",
    "        except ClientError as e:\n",
    "            if e.response['Error']['Code'] == 'ThrottlingException':\n",
    "                print(f\"Throttling Exception occurred: {e}\")\n",
    "                time.sleep(61)\n",
    "                continue\n",
    "            else:\n",
    "                break\n",
    "        except Exception as e:\n",
    "            print(e)\n",
    "            break\n",
    "\n",
    "        try:\n",
    "            assert(parse_tags[0] in summary)\n",
    "            assert(parse_tags[1] in summary)\n",
    "            summary = (summary.split(parse_tags[0])[1]).split(parse_tags[1])[0]\n",
    "            parse_list.append(1)\n",
    "        except Exception as e:\n",
    "            parse_list.append(0)\n",
    "\n",
    "    cost_avg = np.mean(cost_list)\n",
    "    latency_avg = np.mean(latency_list)\n",
    "    parse_acc = np.mean(parse_list) * 100.\n",
    "    return summary_list, cost_avg, latency_avg, parse_acc"
   ]
  },
  {
   "cell_type": "code",
   "execution_count": 22,
   "id": "da267e19-184d-4d81-bf5b-568f5da6d052",
   "metadata": {},
   "outputs": [],
   "source": [
    "def process_model(model_id: str, doc_sample: int, trials: int) -> Dict[str, Any]:\n",
    "    print(f\"\\nTesting model: {model_id}\")\n",
    "    common_name = SUPPORTED_MODEL_COST[model_id][2]\n",
    "\n",
    "    # Test without system prompt\n",
    "    print(\"Testing without system prompt...\")\n",
    "    no_system = run_summary_trials(\n",
    "        documents=DOCUMENTS,\n",
    "        doc_sample=doc_sample,\n",
    "        trials=trials,\n",
    "        model_id=model_id,\n",
    "        system_text=None\n",
    "    )\n",
    "\n",
    "    # Test with system prompt\n",
    "    print(\"Testing with system prompt...\")\n",
    "    with_system = run_summary_trials(\n",
    "        documents=DOCUMENTS,\n",
    "        doc_sample=doc_sample,\n",
    "        trials=trials,\n",
    "        model_id=model_id,\n",
    "        system_text=SYSTEM_BASE\n",
    "    )\n",
    "\n",
    "    # Print interim results\n",
    "    print(f\"\\nInterim Results for {model_id}:\")\n",
    "    print(f\"Without system - Cost: ${no_system[1]:.4f}, Latency: {no_system[2]/1000:.2f}s, Accuracy: {no_system[3]:.1f}%\")\n",
    "    print(f\"With system - Cost: ${with_system[1]:.4f}, Latency: {with_system[2]/1000:.2f}s, Accuracy: {with_system[3]:.1f}%\")\n",
    "\n",
    "    return {\n",
    "        'name': common_name,\n",
    "        'no_system': {\n",
    "            'summaries': no_system[0],\n",
    "            'avg_cost': no_system[1],\n",
    "            'avg_latency': no_system[2],\n",
    "            'parse_accuracy': no_system[3]\n",
    "        },\n",
    "        'with_system': {\n",
    "            'summaries': with_system[0],\n",
    "            'avg_cost': with_system[1],\n",
    "            'avg_latency': with_system[2],\n",
    "            'parse_accuracy': with_system[3]\n",
    "        }\n",
    "    }"
   ]
  },
  {
   "cell_type": "code",
   "execution_count": 23,
   "id": "d6770f9a-55b8-43f9-8278-3065e324c0c7",
   "metadata": {},
   "outputs": [],
   "source": [
    "def display_benchmark_results(results, show_plots=True):\n",
    "    \"\"\"Display formatted benchmark results and optionally show visualizations.\n",
    "    \n",
    "    Args:\n",
    "        results: Dictionary containing benchmark results per model\n",
    "        show_plots: Whether to display matplotlib visualizations\n",
    "    \"\"\"\n",
    "    print(\"\\n=== Complete Benchmark Results ===\\n\")\n",
    "    total_cost_no_system = total_cost_with_system = 0\n",
    "    total_latency_no_system = total_latency_with_system = 0\n",
    "\n",
    "    for model_id in MODELS:\n",
    "        model_results = results[model_id]\n",
    "        print(f\"\\nModel: {model_id}\")\n",
    "        print(\"-\" * (len(model_id) + 7))\n",
    "\n",
    "        for test_type in ['no_system', 'with_system']:\n",
    "            results_data = model_results[test_type]\n",
    "            print(f\"\\n{'With' if test_type == 'with_system' else 'Without'} System Prompt:\")\n",
    "            print(f\"Average cost: ${results_data['avg_cost']:.4f}\")\n",
    "            print(f\"Average latency: {results_data['avg_latency']/1000:.2f}s\")\n",
    "            print(f\"Parse accuracy: {results_data['parse_accuracy']:.1f}%\")\n",
    "\n",
    "            if test_type == 'no_system':\n",
    "                total_cost_no_system += results_data['avg_cost']\n",
    "                total_latency_no_system += results_data['avg_latency']\n",
    "            else:\n",
    "                total_cost_with_system += results_data['avg_cost']\n",
    "                total_latency_with_system += results_data['avg_latency']\n",
    "\n",
    "    print(\"\\n=== Overall Statistics ===\")\n",
    "    print(f\"\\nTotal average cost without system prompt: ${total_cost_no_system:.4f}\")\n",
    "    print(f\"Total average cost with system prompt: ${total_cost_with_system:.4f}\")\n",
    "    print(f\"Total average latency without system prompt: {total_latency_no_system/1000:.2f}s\")\n",
    "    print(f\"Total average latency with system prompt: {total_latency_with_system/1000:.2f}s\")\n",
    "\n",
    "    if show_plots:\n",
    "        # Create figure with subplots\n",
    "        fig, ((ax1, ax2), (ax3, ax4)) = plt.subplots(2, 2, figsize=(15, 10))\n",
    "\n",
    "        # Prepare data for plotting\n",
    "        model_names = [x for x in MODELS if x in results.keys()]\n",
    "        model_lbls = [SUPPORTED_MODEL_COST[x][2] for x in model_names]\n",
    "        x = np.arange(len(model_names))\n",
    "        width = 0.35\n",
    "\n",
    "        # Cost comparison plot\n",
    "        costs_no_system = [results[model]['no_system']['avg_cost'] for model in model_names]\n",
    "        costs_with_system = [results[model]['with_system']['avg_cost'] for model in model_names]\n",
    "\n",
    "        ax1.bar(x - width/2, costs_no_system, width, label='Without System')\n",
    "        ax1.bar(x + width/2, costs_with_system, width, label='With System')\n",
    "        ax1.set_ylabel('Average Cost ($)')\n",
    "        ax1.set_title('Cost Comparison by Model')\n",
    "        ax1.set_xticks(x)\n",
    "        ax1.set_xticklabels(model_lbls, rotation=50)\n",
    "        ax1.legend()\n",
    "\n",
    "        # Latency comparison plot\n",
    "        latency_no_system = [results[model]['no_system']['avg_latency']/1000 for model in model_names]\n",
    "        latency_with_system = [results[model]['with_system']['avg_latency']/1000 for model in model_names]\n",
    "\n",
    "        ax2.bar(x - width/2, latency_no_system, width, label='Without System')\n",
    "        ax2.bar(x + width/2, latency_with_system, width, label='With System')\n",
    "        ax2.set_ylabel('Average Latency (s)')\n",
    "        ax2.set_title('Latency Comparison by Model')\n",
    "        ax2.set_xticks(x)\n",
    "        ax2.set_xticklabels(model_lbls, rotation=50)\n",
    "        ax2.legend()\n",
    "\n",
    "        # Parse accuracy plot\n",
    "        accuracy_no_system = [results[model]['no_system']['parse_accuracy'] for model in model_names]\n",
    "        accuracy_with_system = [results[model]['with_system']['parse_accuracy'] for model in model_names]\n",
    "\n",
    "        ax3.bar(x - width/2, accuracy_no_system, width, label='Without System')\n",
    "        ax3.bar(x + width/2, accuracy_with_system, width, label='With System')\n",
    "        ax3.set_ylabel('Parse Accuracy (%)')\n",
    "        ax3.set_title('Parse Accuracy by Model')\n",
    "        ax3.set_xticks(x)\n",
    "        ax3.set_xticklabels(model_lbls, rotation=50)\n",
    "        ax3.legend()\n",
    "\n",
    "        # Total comparisons\n",
    "        metrics = ['Cost ($ x 5,000)', 'Latency (s)']\n",
    "        totals_no_system = [5000*total_cost_no_system, total_latency_no_system/1000]\n",
    "        totals_with_system = [5000*total_cost_with_system, total_latency_with_system/1000]\n",
    "\n",
    "        x = np.arange(len(metrics))\n",
    "        ax4.bar(x - width/2, totals_no_system, width, label='Without System')\n",
    "        ax4.bar(x + width/2, totals_with_system, width, label='With System')\n",
    "        ax4.set_ylabel('Value')\n",
    "        ax4.set_title('Total Metrics Comparison')\n",
    "        ax4.set_xticks(x)\n",
    "        ax4.set_xticklabels(metrics)\n",
    "        ax4.legend()\n",
    "\n",
    "        plt.tight_layout()\n",
    "        plt.show()"
   ]
  },
  {
   "cell_type": "markdown",
   "id": "f0b97c69-ad89-4d9e-a69e-37951017bf9b",
   "metadata": {},
   "source": [
    "### Run Full Benchmark"
   ]
  },
  {
   "cell_type": "code",
   "execution_count": 24,
   "id": "3f66674a-c618-4e32-a65a-9b83933822a1",
   "metadata": {},
   "outputs": [
    {
     "name": "stdout",
     "output_type": "stream",
     "text": [
      "\n",
      "Testing model: us.amazon.nova-micro-v1:0\n",
      "Testing model: us.amazon.nova-lite-v1:0\n",
      "Testing without system prompt...\n",
      "Testing without system prompt...\n",
      "\n",
      "Testing with system prompt...\n",
      "Testing with system prompt...\n",
      "\n",
      "Interim Results for us.amazon.nova-lite-v1:0:\n",
      "Without system - Cost: $0.0000, Latency: 0.95s, Accuracy: 100.0%\n",
      "With system - Cost: $0.0001, Latency: 1.89s, Accuracy: 100.0%\n",
      "\n",
      "Testing model: us.amazon.nova-pro-v1:0\n",
      "Testing without system prompt...\n",
      "\n",
      "Interim Results for us.amazon.nova-micro-v1:0:\n",
      "Without system - Cost: $0.0000, Latency: 0.92s, Accuracy: 96.0%\n",
      "With system - Cost: $0.0001, Latency: 2.32s, Accuracy: 100.0%\n",
      "\n",
      "Testing model: us.meta.llama3-2-1b-instruct-v1:0\n",
      "Testing without system prompt...\n",
      "Throttling Exception occurred: An error occurred (ThrottlingException) when calling the Converse operation (reached max retries: 4): Too many requests, please wait before trying again.\n",
      "Testing with system prompt...Throttling Exception occurred: An error occurred (ThrottlingException) when calling the Converse operation (reached max retries: 4): Too many requests, please wait before trying again.\n",
      "\n",
      "Throttling Exception occurred: An error occurred (ThrottlingException) when calling the Converse operation (reached max retries: 4): Too many requests, please wait before trying again.\n",
      "\n",
      "Interim Results for us.meta.llama3-2-1b-instruct-v1:0:\n",
      "Without system - Cost: $0.0000, Latency: 3.44s, Accuracy: 8.0%\n",
      "With system - Cost: $0.0001, Latency: 3.78s, Accuracy: 4.0%\n",
      "\n",
      "Testing model: us.meta.llama3-2-3b-instruct-v1:0\n",
      "Testing without system prompt...\n",
      "Testing with system prompt...\n",
      "Throttling Exception occurred: An error occurred (ThrottlingException) when calling the Converse operation (reached max retries: 4): Too many requests, please wait before trying again.\n",
      "Testing with system prompt...\n",
      "\n",
      "Interim Results for us.meta.llama3-2-3b-instruct-v1:0:\n",
      "Without system - Cost: $0.0000, Latency: 2.30s, Accuracy: 52.0%\n",
      "With system - Cost: $0.0001, Latency: 3.48s, Accuracy: 40.0%\n",
      "\n",
      "Testing model: us.meta.llama3-1-8b-instruct-v1:0\n",
      "Testing without system prompt...\n",
      "Throttling Exception occurred: An error occurred (ThrottlingException) when calling the Converse operation (reached max retries: 4): Too many requests, please wait before trying again.\n",
      "Testing with system prompt...\n",
      "Throttling Exception occurred: An error occurred (ThrottlingException) when calling the Converse operation (reached max retries: 4): Too many requests, please wait before trying again.\n",
      "\n",
      "Interim Results for us.meta.llama3-1-8b-instruct-v1:0:\n",
      "Without system - Cost: $0.0000, Latency: 1.51s, Accuracy: 96.0%\n",
      "With system - Cost: $0.0001, Latency: 2.89s, Accuracy: 88.0%\n",
      "\n",
      "Testing model: us.meta.llama3-2-11b-instruct-v1:0\n",
      "Testing without system prompt...\n",
      "Testing with system prompt...\n",
      "Throttling Exception occurred: An error occurred (ThrottlingException) when calling the Converse operation (reached max retries: 4): Too many requests, please wait before trying again.\n",
      "\n",
      "Interim Results for us.meta.llama3-2-11b-instruct-v1:0:\n",
      "Without system - Cost: $0.0000, Latency: 2.02s, Accuracy: 96.0%\n",
      "With system - Cost: $0.0001, Latency: 2.40s, Accuracy: 100.0%\n",
      "\n",
      "Testing model: us.anthropic.claude-3-5-haiku-20241022-v1:0\n",
      "Testing without system prompt...\n",
      "Throttling Exception occurred: An error occurred (ThrottlingException) when calling the Converse operation (reached max retries: 4): Too many requests, please wait before trying again.\n",
      "Testing with system prompt...\n",
      "\n",
      "Interim Results for us.amazon.nova-pro-v1:0:\n",
      "Without system - Cost: $0.0001, Latency: 2.33s, Accuracy: 100.0%\n",
      "With system - Cost: $0.0001, Latency: 3.10s, Accuracy: 100.0%\n",
      "\n",
      "Interim Results for us.anthropic.claude-3-5-haiku-20241022-v1:0:\n",
      "Without system - Cost: $0.0004, Latency: 2.93s, Accuracy: 100.0%\n",
      "With system - Cost: $0.0005, Latency: 2.87s, Accuracy: 100.0%\n"
     ]
    }
   ],
   "source": [
    "tic = time.time()\n",
    "doc_sample = 3  # How many documents to include in the summary\n",
    "trials = 25  # How many trials to run when testing a model\n",
    "\n",
    "# Use a ThreadPoolExecutor to run the tests in parallel\n",
    "results = {}\n",
    "with concurrent.futures.ProcessPoolExecutor() as executor: # with concurrent.futures.ThreadPoolExecutor() as executor:\n",
    "    # Create a dictionary of futures\n",
    "    future_to_model = {\n",
    "        executor.submit(process_model, model_id, doc_sample, trials):\n",
    "            model_id for model_id in MODELS\n",
    "    }\n",
    "    # Collect results as they complete\n",
    "    for future in concurrent.futures.as_completed(future_to_model):\n",
    "        model_id = future_to_model[future]\n",
    "        try:\n",
    "            results[model_id] = future.result()\n",
    "        except Exception as e:\n",
    "            print(f\"Model {model_id} generated an exception: {e}\")\n",
    "toc = time.time()"
   ]
  },
  {
   "cell_type": "markdown",
   "id": "e61d03fe-3c5c-4d6c-9fe4-3fc25c098a07",
   "metadata": {},
   "source": [
    "### Display Results"
   ]
  },
  {
   "cell_type": "code",
   "execution_count": 25,
   "id": "4f917b14-8224-4ab9-a64c-6a8317307752",
   "metadata": {},
   "outputs": [
    {
     "name": "stdout",
     "output_type": "stream",
     "text": [
      "\n",
      "=== Complete Benchmark Results ===\n",
      "\n",
      "\n",
      "Model: us.amazon.nova-micro-v1:0\n",
      "--------------------------------\n",
      "\n",
      "Without System Prompt:\n",
      "Average cost: $0.0000\n",
      "Average latency: 0.92s\n",
      "Parse accuracy: 96.0%\n",
      "\n",
      "With System Prompt:\n",
      "Average cost: $0.0001\n",
      "Average latency: 2.32s\n",
      "Parse accuracy: 100.0%\n",
      "\n",
      "Model: us.amazon.nova-lite-v1:0\n",
      "-------------------------------\n",
      "\n",
      "Without System Prompt:\n",
      "Average cost: $0.0000\n",
      "Average latency: 0.95s\n",
      "Parse accuracy: 100.0%\n",
      "\n",
      "With System Prompt:\n",
      "Average cost: $0.0001\n",
      "Average latency: 1.89s\n",
      "Parse accuracy: 100.0%\n",
      "\n",
      "Model: us.amazon.nova-pro-v1:0\n",
      "------------------------------\n",
      "\n",
      "Without System Prompt:\n",
      "Average cost: $0.0001\n",
      "Average latency: 2.33s\n",
      "Parse accuracy: 100.0%\n",
      "\n",
      "With System Prompt:\n",
      "Average cost: $0.0001\n",
      "Average latency: 3.10s\n",
      "Parse accuracy: 100.0%\n",
      "\n",
      "Model: us.meta.llama3-2-1b-instruct-v1:0\n",
      "----------------------------------------\n",
      "\n",
      "Without System Prompt:\n",
      "Average cost: $0.0000\n",
      "Average latency: 3.44s\n",
      "Parse accuracy: 8.0%\n",
      "\n",
      "With System Prompt:\n",
      "Average cost: $0.0001\n",
      "Average latency: 3.78s\n",
      "Parse accuracy: 4.0%\n",
      "\n",
      "Model: us.meta.llama3-2-3b-instruct-v1:0\n",
      "----------------------------------------\n",
      "\n",
      "Without System Prompt:\n",
      "Average cost: $0.0000\n",
      "Average latency: 2.30s\n",
      "Parse accuracy: 52.0%\n",
      "\n",
      "With System Prompt:\n",
      "Average cost: $0.0001\n",
      "Average latency: 3.48s\n",
      "Parse accuracy: 40.0%\n",
      "\n",
      "Model: us.meta.llama3-1-8b-instruct-v1:0\n",
      "----------------------------------------\n",
      "\n",
      "Without System Prompt:\n",
      "Average cost: $0.0000\n",
      "Average latency: 1.51s\n",
      "Parse accuracy: 96.0%\n",
      "\n",
      "With System Prompt:\n",
      "Average cost: $0.0001\n",
      "Average latency: 2.89s\n",
      "Parse accuracy: 88.0%\n",
      "\n",
      "Model: us.meta.llama3-2-11b-instruct-v1:0\n",
      "-----------------------------------------\n",
      "\n",
      "Without System Prompt:\n",
      "Average cost: $0.0000\n",
      "Average latency: 2.02s\n",
      "Parse accuracy: 96.0%\n",
      "\n",
      "With System Prompt:\n",
      "Average cost: $0.0001\n",
      "Average latency: 2.40s\n",
      "Parse accuracy: 100.0%\n",
      "\n",
      "Model: us.anthropic.claude-3-5-haiku-20241022-v1:0\n",
      "--------------------------------------------------\n",
      "\n",
      "Without System Prompt:\n",
      "Average cost: $0.0004\n",
      "Average latency: 2.93s\n",
      "Parse accuracy: 100.0%\n",
      "\n",
      "With System Prompt:\n",
      "Average cost: $0.0005\n",
      "Average latency: 2.87s\n",
      "Parse accuracy: 100.0%\n",
      "\n",
      "=== Overall Statistics ===\n",
      "\n",
      "Total average cost without system prompt: $0.0007\n",
      "Total average cost with system prompt: $0.0011\n",
      "Total average latency without system prompt: 16.40s\n",
      "Total average latency with system prompt: 22.74s\n"
     ]
    },
    {
     "data": {
      "image/png": "[encoded data removed]",
      "text/plain": [
       "<Figure size 1500x1000 with 4 Axes>"
      ]
     },
     "metadata": {},
     "output_type": "display_data"
    }
   ],
   "source": [
    "display_benchmark_results(results)"
   ]
  },
  {
   "cell_type": "code",
   "execution_count": null,
   "id": "81716287-2ec6-480b-92a1-606085e9fca4",
   "metadata": {},
   "outputs": [],
   "source": []
  }
 ],
 "metadata": {
  "kernelspec": {
   "display_name": "Python 3 (ipykernel)",
   "language": "python",
   "name": "python3"
  },
  "language_info": {
   "codemirror_mode": {
    "name": "ipython",
    "version": 3
   },
   "file_extension": ".py",
   "mimetype": "text/x-python",
   "name": "python",
   "nbconvert_exporter": "python",
   "pygments_lexer": "ipython3",
   "version": "3.10.14"
  }
 },
 "nbformat": 4,
 "nbformat_minor": 5
}
