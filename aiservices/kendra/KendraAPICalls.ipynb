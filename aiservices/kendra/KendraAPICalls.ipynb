{
 "cells": [
  {
   "cell_type": "markdown",
   "id": "c4d990a5-87be-406e-8a02-925a0c70f0d5",
   "metadata": {},
   "source": [
    "### Imports"
   ]
  },
  {
   "cell_type": "code",
   "execution_count": 2,
   "id": "bc92a369-6cca-4351-9a9d-607182f78f42",
   "metadata": {
    "tags": []
   },
   "outputs": [],
   "source": [
    "import boto3"
   ]
  },
  {
   "cell_type": "markdown",
   "id": "f5c87862-028c-4ac0-acca-55997a7f9b46",
   "metadata": {},
   "source": [
    "#### Methods"
   ]
  },
  {
   "cell_type": "code",
   "execution_count": 3,
   "id": "b7c00fee-5141-4dbf-9213-e83e434ffd9f",
   "metadata": {
    "tags": []
   },
   "outputs": [],
   "source": [
    "def display_results(response:dict, user_profile:str=None) -> None:\n",
    "    list_1 = []\n",
    "    list_2 = []\n",
    "    for i,item in enumerate(response['ResultItems']):\n",
    "        title = item['DocumentTitle']['Text']\n",
    "        score = item['ScoreAttributes']['ScoreConfidence']\n",
    "        for attr in item['DocumentAttributes']:\n",
    "            if (attr['Key'] == 'user_profile'):\n",
    "                if  attr['Value']['StringValue'] == user_profile:\n",
    "                    list_1.append(f'{i}. [{score}] [{attr[\"Value\"][\"StringValue\"]}] {title}')\n",
    "                else:\n",
    "                    list_2.append(f'{i}. [{score}] [{attr[\"Value\"][\"StringValue\"]}] {title}')\n",
    "                break\n",
    "            else:\n",
    "                continue\n",
    "    results = list_1 + list_2\n",
    "    _ = [print(item) for item in results]"
   ]
  },
  {
   "cell_type": "markdown",
   "id": "480a09f8-f13f-4374-97ef-c684d3a1e298",
   "metadata": {},
   "source": [
    "## Query Parameters"
   ]
  },
  {
   "cell_type": "code",
   "execution_count": 4,
   "id": "ee312910-d37a-4080-862a-c61e6162b382",
   "metadata": {
    "tags": []
   },
   "outputs": [],
   "source": [
    "kendra = boto3.client(\"kendra\")\n",
    "\n",
    "index_id = \"e0e094e1-0713-4845-b6b4-a74c66f6f480\"\n",
    "query = \"boots please\"\n",
    "user_profile = \"consumer\""
   ]
  },
  {
   "cell_type": "markdown",
   "id": "e2fbfbad-eedb-44d1-8345-fef6783630bb",
   "metadata": {},
   "source": [
    "## Query Index\n",
    "\n",
    "SDK Guide: https://docs.aws.amazon.com/kendra/latest/dg/searching-example.html<b><b>\n",
    "\n",
    "Request Parameters: https://docs.aws.amazon.com/kendra/latest/dg/API_Query.html\n"
   ]
  },
  {
   "cell_type": "code",
   "execution_count": 5,
   "id": "68a51d0c-e1b0-4eb5-a9ab-50939511ef85",
   "metadata": {
    "tags": []
   },
   "outputs": [],
   "source": [
    "response = kendra.query(\n",
    "    QueryText = query,\n",
    "    IndexId = index_id\n",
    ")"
   ]
  },
  {
   "cell_type": "markdown",
   "id": "745e71a1-d808-41d0-8734-d2a26e44a3a4",
   "metadata": {},
   "source": [
    "#### Response Example"
   ]
  },
  {
   "cell_type": "code",
   "execution_count": 6,
   "id": "2d46d761-1b90-475b-86b9-1c589da8c1b2",
   "metadata": {
    "tags": []
   },
   "outputs": [
    {
     "data": {
      "text/plain": [
       "dict_keys(['QueryId', 'ResultItems', 'FacetResults', 'TotalNumberOfResults', 'ResponseMetadata'])"
      ]
     },
     "execution_count": 6,
     "metadata": {},
     "output_type": "execute_result"
    }
   ],
   "source": [
    "response.keys()"
   ]
  },
  {
   "cell_type": "code",
   "execution_count": 7,
   "id": "be98fbce-c0b4-4552-9232-72587df68ccc",
   "metadata": {},
   "outputs": [
    {
     "data": {
      "text/plain": [
       "25"
      ]
     },
     "execution_count": 7,
     "metadata": {},
     "output_type": "execute_result"
    }
   ],
   "source": [
    "response['TotalNumberOfResults']"
   ]
  },
  {
   "cell_type": "code",
   "execution_count": 8,
   "id": "f3ab99ca-08ea-4efd-81b0-bb3936a174aa",
   "metadata": {},
   "outputs": [
    {
     "data": {
      "text/plain": [
       "{'Id': '272fa93d-0c3a-4c27-b59a-4af80ec193c6-092f6e25-a55a-441e-913a-76b30bfe32e5',\n",
       " 'Type': 'DOCUMENT',\n",
       " 'Format': 'TEXT',\n",
       " 'AdditionalAttributes': [],\n",
       " 'DocumentId': 'doc_137_prod_175051.json',\n",
       " 'DocumentTitle': {'Text': 'Men\\'s Bean Boots by L.L.Bean®, 6\"',\n",
       "  'Highlights': [{'BeginOffset': 11,\n",
       "    'EndOffset': 16,\n",
       "    'TopAnswer': False,\n",
       "    'Type': 'STANDARD'}]},\n",
       " 'DocumentExcerpt': {'Text': '...product\": \"Men\\'s Bean Boots by L.L.Bean\\\\u00ae, 6\\\\\"\",\\n    \"description\": \"Warm\",\\n    \"colors\": [\\n        \"Tan/Brown\"\\n    ],\\n    \"category\": \"Boots...',\n",
       "  'Highlights': [{'BeginOffset': 25,\n",
       "    'EndOffset': 30,\n",
       "    'TopAnswer': False,\n",
       "    'Type': 'STANDARD'},\n",
       "   {'BeginOffset': 143,\n",
       "    'EndOffset': 148,\n",
       "    'TopAnswer': False,\n",
       "    'Type': 'STANDARD'}]},\n",
       " 'DocumentURI': 'https://s3.us-east-1.amazonaws.com/platform-product-data-20230313/doc_137_prod_175051.json',\n",
       " 'DocumentAttributes': [{'Key': '_category',\n",
       "   'Value': {'StringValue': 'Boots'}},\n",
       "  {'Key': '_source_uri',\n",
       "   'Value': {'StringValue': 'https://s3.us-east-1.amazonaws.com/platform-product-data-20230313/doc_137_prod_175051.json'}},\n",
       "  {'Key': 'user_profile', 'Value': {'StringValue': 'distributer'}},\n",
       "  {'Key': 'colors', 'Value': {'StringListValue': ['Tan/Brown']}}],\n",
       " 'ScoreAttributes': {'ScoreConfidence': 'HIGH'},\n",
       " 'FeedbackToken': 'AYADePw517m_eZSGu74Qz4lkQlsAXwABABVhd3MtY3J5cHRvLXB1YmxpYy1rZXkAREE2YzVMY2pZREU2VXpvMHcrc1JsNEpVbGxtNWIzWDBVZWwrTVdPRG4yQStBMFZ2aDNIMFNzU09nckFZL0FwbURCUT09AAEAB2F3cy1rbXMAS2Fybjphd3M6a21zOnVzLWVhc3QtMTo3OTQyODk5MjcwNzA6a2V5LzA4YjVkYTRmLWQyOWEtNDU3Mi04OTAwLTRkZjMzN2VjYzljYwC4AQIBAHj0zQzhkrLuQ7zD8HaKUpTKx0B1ZhTxova5poogpTSq9gGri43ecCXbmGZyn-1w7n0cAAAAfjB8BgkqhkiG9w0BBwagbzBtAgEAMGgGCSqGSIb3DQEHATAeBglghkgBZQMEAS4wEQQMrAIRqkqyXszXCvW2AgEQgDvodm-8LJMajCM-9q1-p6lZRxU4CvWZ3SbN4szgK0WY3-0Xf48y_frU3nryZpGTEGeCTzLvlB37e1owjgIAAAAADAAAEAAAAAAAAAAAAAAAAACmbFoP_N6SiXM6pBeEYtbr_____wAAAAEAAAAAAAAAAAAAAAEAAAF2wBDc6rNuhJmPnmOLsZyTdE41xkiqDeybAYheR5jYbccRwDLAr8FWYA5ttHcgzcE33MbI8bsZTAc8k7EP0dDLMOVI1pWSHh443zxCFEbmo9LllXGnhHqmzC_FeEuCCMx_hHu2KwHVplCrrU2ysf13oHygNqwyrmQFc59cP1CwpZqprxBW80i4rsCgNiNRCvJayt056Q21DOPD14UgGtZwY84FhUzSTtJDARvSBHqeTS5zecfktsqLHRtclM2vpLUYN1wceOCSbOikYRhH7Po1Dsk6UbE6Io56GxmvQcFhNXkiPSJcfO9F_97ri8JcVo9VABgTS-y9Zva92dhCqUp4qJAQ9Nr5DaqVUt7CPCD2tFOzJklaStrxtgZHHUuEjZmOdYg5_5leZ_S7ZRok-ajAGq74XFEvpop4i4QkevyTEsQe6-xcCZNi2nh8gzxYFOscLCo2fxjbfoOMRj7tI6xR9z5QhecKVS6uR_TRxGitHeNGHdL-HUPeU2kHj6xUeINMwU_0hjlMAGcwZQIwfwUumnaex5GQ7fF_XA1WVnnHyDHcegSoy2Kth-5M7DonSSEchOu5GenhHAT5yLj5AjEAh4lo7t2R3z3URqsumrRrcg5BRJTelQl3S6QZl5P_HX6o6JdalIkdFOhTWd5HzyQZ.272fa93d-0c3a-4c27-b59a-4af80ec193c6-092f6e25-a55a-441e-913a-76b30bfe32e5'}"
      ]
     },
     "execution_count": 8,
     "metadata": {},
     "output_type": "execute_result"
    }
   ],
   "source": [
    "response['ResultItems'][0]"
   ]
  },
  {
   "cell_type": "markdown",
   "id": "8d2de6be-783a-451b-a315-dfe94e05066c",
   "metadata": {},
   "source": [
    "### Results by Relevance"
   ]
  },
  {
   "cell_type": "code",
   "execution_count": 9,
   "id": "88389668-4639-4c09-9b6d-a158b3ca7bc3",
   "metadata": {
    "tags": []
   },
   "outputs": [
    {
     "name": "stdout",
     "output_type": "stream",
     "text": [
      "0. [HIGH] [distributer] Men's Bean Boots by L.L.Bean®, 6\"\n",
      "1. [HIGH] [consumer] Kids' Northwoods Boots\n",
      "2. [HIGH] [distributer] Pearl Izumi X-ALP Canyon Mountain Biking Shoes\n",
      "3. [MEDIUM] [consumer] Women's Chaco Diana Sandals\n",
      "4. [MEDIUM] [reseller] Men's Vasque Talus Trek Waterproof Hiking Boots\n",
      "5. [MEDIUM] [consumer] Kids' Bogs Boots, Classic Camo\n",
      "6. [MEDIUM] [consumer] Men's Keen Targhee Waterproof Hiking Boots, Insulated\n",
      "7. [MEDIUM] [reseller] Men's L.L. Bean Boots, 10\" Shearling-Lined\n",
      "8. [MEDIUM] [distributer] Women's Waterproof Katahdin Hiking Boots, Leather Mesh\n",
      "9. [MEDIUM] [distributer] Women's Ahnu Montara III eVent Hiking Boots\n"
     ]
    }
   ],
   "source": [
    "display_results(response)"
   ]
  },
  {
   "cell_type": "markdown",
   "id": "06c49db0-8e4c-4dbc-927c-cf36dd18a22c",
   "metadata": {},
   "source": [
    "### Results by User Profile"
   ]
  },
  {
   "cell_type": "code",
   "execution_count": 10,
   "id": "f3218263-f39a-485a-abd6-71b975f0782d",
   "metadata": {
    "tags": []
   },
   "outputs": [
    {
     "name": "stdout",
     "output_type": "stream",
     "text": [
      "1. [HIGH] [consumer] Kids' Northwoods Boots\n",
      "3. [MEDIUM] [consumer] Women's Chaco Diana Sandals\n",
      "5. [MEDIUM] [consumer] Kids' Bogs Boots, Classic Camo\n",
      "6. [MEDIUM] [consumer] Men's Keen Targhee Waterproof Hiking Boots, Insulated\n",
      "0. [HIGH] [distributer] Men's Bean Boots by L.L.Bean®, 6\"\n",
      "2. [HIGH] [distributer] Pearl Izumi X-ALP Canyon Mountain Biking Shoes\n",
      "4. [MEDIUM] [reseller] Men's Vasque Talus Trek Waterproof Hiking Boots\n",
      "7. [MEDIUM] [reseller] Men's L.L. Bean Boots, 10\" Shearling-Lined\n",
      "8. [MEDIUM] [distributer] Women's Waterproof Katahdin Hiking Boots, Leather Mesh\n",
      "9. [MEDIUM] [distributer] Women's Ahnu Montara III eVent Hiking Boots\n"
     ]
    }
   ],
   "source": [
    "display_results(response, user_profile)"
   ]
  },
  {
   "cell_type": "code",
   "execution_count": null,
   "id": "80a1728b-5d6b-4fbe-9812-f111cd3d6ba6",
   "metadata": {},
   "outputs": [],
   "source": []
  }
 ],
 "metadata": {
  "availableInstances": [
   {
    "_defaultOrder": 0,
    "_isFastLaunch": true,
    "category": "General purpose",
    "gpuNum": 0,
    "memoryGiB": 4,
    "name": "ml.t3.medium",
    "vcpuNum": 2
   },
   {
    "_defaultOrder": 1,
    "_isFastLaunch": false,
    "category": "General purpose",
    "gpuNum": 0,
    "memoryGiB": 8,
    "name": "ml.t3.large",
    "vcpuNum": 2
   },
   {
    "_defaultOrder": 2,
    "_isFastLaunch": false,
    "category": "General purpose",
    "gpuNum": 0,
    "memoryGiB": 16,
    "name": "ml.t3.xlarge",
    "vcpuNum": 4
   },
   {
    "_defaultOrder": 3,
    "_isFastLaunch": false,
    "category": "General purpose",
    "gpuNum": 0,
    "memoryGiB": 32,
    "name": "ml.t3.2xlarge",
    "vcpuNum": 8
   },
   {
    "_defaultOrder": 4,
    "_isFastLaunch": true,
    "category": "General purpose",
    "gpuNum": 0,
    "memoryGiB": 8,
    "name": "ml.m5.large",
    "vcpuNum": 2
   },
   {
    "_defaultOrder": 5,
    "_isFastLaunch": false,
    "category": "General purpose",
    "gpuNum": 0,
    "memoryGiB": 16,
    "name": "ml.m5.xlarge",
    "vcpuNum": 4
   },
   {
    "_defaultOrder": 6,
    "_isFastLaunch": false,
    "category": "General purpose",
    "gpuNum": 0,
    "memoryGiB": 32,
    "name": "ml.m5.2xlarge",
    "vcpuNum": 8
   },
   {
    "_defaultOrder": 7,
    "_isFastLaunch": false,
    "category": "General purpose",
    "gpuNum": 0,
    "memoryGiB": 64,
    "name": "ml.m5.4xlarge",
    "vcpuNum": 16
   },
   {
    "_defaultOrder": 8,
    "_isFastLaunch": false,
    "category": "General purpose",
    "gpuNum": 0,
    "memoryGiB": 128,
    "name": "ml.m5.8xlarge",
    "vcpuNum": 32
   },
   {
    "_defaultOrder": 9,
    "_isFastLaunch": false,
    "category": "General purpose",
    "gpuNum": 0,
    "memoryGiB": 192,
    "name": "ml.m5.12xlarge",
    "vcpuNum": 48
   },
   {
    "_defaultOrder": 10,
    "_isFastLaunch": false,
    "category": "General purpose",
    "gpuNum": 0,
    "memoryGiB": 256,
    "name": "ml.m5.16xlarge",
    "vcpuNum": 64
   },
   {
    "_defaultOrder": 11,
    "_isFastLaunch": false,
    "category": "General purpose",
    "gpuNum": 0,
    "memoryGiB": 384,
    "name": "ml.m5.24xlarge",
    "vcpuNum": 96
   },
   {
    "_defaultOrder": 12,
    "_isFastLaunch": false,
    "category": "General purpose",
    "gpuNum": 0,
    "memoryGiB": 8,
    "name": "ml.m5d.large",
    "vcpuNum": 2
   },
   {
    "_defaultOrder": 13,
    "_isFastLaunch": false,
    "category": "General purpose",
    "gpuNum": 0,
    "memoryGiB": 16,
    "name": "ml.m5d.xlarge",
    "vcpuNum": 4
   },
   {
    "_defaultOrder": 14,
    "_isFastLaunch": false,
    "category": "General purpose",
    "gpuNum": 0,
    "memoryGiB": 32,
    "name": "ml.m5d.2xlarge",
    "vcpuNum": 8
   },
   {
    "_defaultOrder": 15,
    "_isFastLaunch": false,
    "category": "General purpose",
    "gpuNum": 0,
    "memoryGiB": 64,
    "name": "ml.m5d.4xlarge",
    "vcpuNum": 16
   },
   {
    "_defaultOrder": 16,
    "_isFastLaunch": false,
    "category": "General purpose",
    "gpuNum": 0,
    "memoryGiB": 128,
    "name": "ml.m5d.8xlarge",
    "vcpuNum": 32
   },
   {
    "_defaultOrder": 17,
    "_isFastLaunch": false,
    "category": "General purpose",
    "gpuNum": 0,
    "memoryGiB": 192,
    "name": "ml.m5d.12xlarge",
    "vcpuNum": 48
   },
   {
    "_defaultOrder": 18,
    "_isFastLaunch": false,
    "category": "General purpose",
    "gpuNum": 0,
    "memoryGiB": 256,
    "name": "ml.m5d.16xlarge",
    "vcpuNum": 64
   },
   {
    "_defaultOrder": 19,
    "_isFastLaunch": false,
    "category": "General purpose",
    "gpuNum": 0,
    "memoryGiB": 384,
    "name": "ml.m5d.24xlarge",
    "vcpuNum": 96
   },
   {
    "_defaultOrder": 20,
    "_isFastLaunch": true,
    "category": "Compute optimized",
    "gpuNum": 0,
    "memoryGiB": 4,
    "name": "ml.c5.large",
    "vcpuNum": 2
   },
   {
    "_defaultOrder": 21,
    "_isFastLaunch": false,
    "category": "Compute optimized",
    "gpuNum": 0,
    "memoryGiB": 8,
    "name": "ml.c5.xlarge",
    "vcpuNum": 4
   },
   {
    "_defaultOrder": 22,
    "_isFastLaunch": false,
    "category": "Compute optimized",
    "gpuNum": 0,
    "memoryGiB": 16,
    "name": "ml.c5.2xlarge",
    "vcpuNum": 8
   },
   {
    "_defaultOrder": 23,
    "_isFastLaunch": false,
    "category": "Compute optimized",
    "gpuNum": 0,
    "memoryGiB": 32,
    "name": "ml.c5.4xlarge",
    "vcpuNum": 16
   },
   {
    "_defaultOrder": 24,
    "_isFastLaunch": false,
    "category": "Compute optimized",
    "gpuNum": 0,
    "memoryGiB": 72,
    "name": "ml.c5.9xlarge",
    "vcpuNum": 36
   },
   {
    "_defaultOrder": 25,
    "_isFastLaunch": false,
    "category": "Compute optimized",
    "gpuNum": 0,
    "memoryGiB": 96,
    "name": "ml.c5.12xlarge",
    "vcpuNum": 48
   },
   {
    "_defaultOrder": 26,
    "_isFastLaunch": false,
    "category": "Compute optimized",
    "gpuNum": 0,
    "memoryGiB": 144,
    "name": "ml.c5.18xlarge",
    "vcpuNum": 72
   },
   {
    "_defaultOrder": 27,
    "_isFastLaunch": false,
    "category": "Compute optimized",
    "gpuNum": 0,
    "memoryGiB": 192,
    "name": "ml.c5.24xlarge",
    "vcpuNum": 96
   },
   {
    "_defaultOrder": 28,
    "_isFastLaunch": true,
    "category": "Accelerated computing",
    "gpuNum": 1,
    "memoryGiB": 16,
    "name": "ml.g4dn.xlarge",
    "vcpuNum": 4
   },
   {
    "_defaultOrder": 29,
    "_isFastLaunch": false,
    "category": "Accelerated computing",
    "gpuNum": 1,
    "memoryGiB": 32,
    "name": "ml.g4dn.2xlarge",
    "vcpuNum": 8
   },
   {
    "_defaultOrder": 30,
    "_isFastLaunch": false,
    "category": "Accelerated computing",
    "gpuNum": 1,
    "memoryGiB": 64,
    "name": "ml.g4dn.4xlarge",
    "vcpuNum": 16
   },
   {
    "_defaultOrder": 31,
    "_isFastLaunch": false,
    "category": "Accelerated computing",
    "gpuNum": 1,
    "memoryGiB": 128,
    "name": "ml.g4dn.8xlarge",
    "vcpuNum": 32
   },
   {
    "_defaultOrder": 32,
    "_isFastLaunch": false,
    "category": "Accelerated computing",
    "gpuNum": 4,
    "memoryGiB": 192,
    "name": "ml.g4dn.12xlarge",
    "vcpuNum": 48
   },
   {
    "_defaultOrder": 33,
    "_isFastLaunch": false,
    "category": "Accelerated computing",
    "gpuNum": 1,
    "memoryGiB": 256,
    "name": "ml.g4dn.16xlarge",
    "vcpuNum": 64
   },
   {
    "_defaultOrder": 34,
    "_isFastLaunch": false,
    "category": "Accelerated computing",
    "gpuNum": 1,
    "memoryGiB": 61,
    "name": "ml.p3.2xlarge",
    "vcpuNum": 8
   },
   {
    "_defaultOrder": 35,
    "_isFastLaunch": false,
    "category": "Accelerated computing",
    "gpuNum": 4,
    "memoryGiB": 244,
    "name": "ml.p3.8xlarge",
    "vcpuNum": 32
   },
   {
    "_defaultOrder": 36,
    "_isFastLaunch": false,
    "category": "Accelerated computing",
    "gpuNum": 8,
    "memoryGiB": 488,
    "name": "ml.p3.16xlarge",
    "vcpuNum": 64
   },
   {
    "_defaultOrder": 37,
    "_isFastLaunch": false,
    "category": "Accelerated computing",
    "gpuNum": 8,
    "memoryGiB": 768,
    "name": "ml.p3dn.24xlarge",
    "vcpuNum": 96
   },
   {
    "_defaultOrder": 38,
    "_isFastLaunch": false,
    "category": "Memory Optimized",
    "gpuNum": 0,
    "memoryGiB": 16,
    "name": "ml.r5.large",
    "vcpuNum": 2
   },
   {
    "_defaultOrder": 39,
    "_isFastLaunch": false,
    "category": "Memory Optimized",
    "gpuNum": 0,
    "memoryGiB": 32,
    "name": "ml.r5.xlarge",
    "vcpuNum": 4
   },
   {
    "_defaultOrder": 40,
    "_isFastLaunch": false,
    "category": "Memory Optimized",
    "gpuNum": 0,
    "memoryGiB": 64,
    "name": "ml.r5.2xlarge",
    "vcpuNum": 8
   },
   {
    "_defaultOrder": 41,
    "_isFastLaunch": false,
    "category": "Memory Optimized",
    "gpuNum": 0,
    "memoryGiB": 128,
    "name": "ml.r5.4xlarge",
    "vcpuNum": 16
   },
   {
    "_defaultOrder": 42,
    "_isFastLaunch": false,
    "category": "Memory Optimized",
    "gpuNum": 0,
    "memoryGiB": 256,
    "name": "ml.r5.8xlarge",
    "vcpuNum": 32
   },
   {
    "_defaultOrder": 43,
    "_isFastLaunch": false,
    "category": "Memory Optimized",
    "gpuNum": 0,
    "memoryGiB": 384,
    "name": "ml.r5.12xlarge",
    "vcpuNum": 48
   },
   {
    "_defaultOrder": 44,
    "_isFastLaunch": false,
    "category": "Memory Optimized",
    "gpuNum": 0,
    "memoryGiB": 512,
    "name": "ml.r5.16xlarge",
    "vcpuNum": 64
   },
   {
    "_defaultOrder": 45,
    "_isFastLaunch": false,
    "category": "Memory Optimized",
    "gpuNum": 0,
    "memoryGiB": 768,
    "name": "ml.r5.24xlarge",
    "vcpuNum": 96
   },
   {
    "_defaultOrder": 46,
    "_isFastLaunch": false,
    "category": "Accelerated computing",
    "gpuNum": 1,
    "memoryGiB": 16,
    "name": "ml.g5.xlarge",
    "vcpuNum": 4
   },
   {
    "_defaultOrder": 47,
    "_isFastLaunch": false,
    "category": "Accelerated computing",
    "gpuNum": 1,
    "memoryGiB": 32,
    "name": "ml.g5.2xlarge",
    "vcpuNum": 8
   },
   {
    "_defaultOrder": 48,
    "_isFastLaunch": false,
    "category": "Accelerated computing",
    "gpuNum": 1,
    "memoryGiB": 64,
    "name": "ml.g5.4xlarge",
    "vcpuNum": 16
   },
   {
    "_defaultOrder": 49,
    "_isFastLaunch": false,
    "category": "Accelerated computing",
    "gpuNum": 1,
    "memoryGiB": 128,
    "name": "ml.g5.8xlarge",
    "vcpuNum": 32
   },
   {
    "_defaultOrder": 50,
    "_isFastLaunch": false,
    "category": "Accelerated computing",
    "gpuNum": 1,
    "memoryGiB": 256,
    "name": "ml.g5.16xlarge",
    "vcpuNum": 64
   },
   {
    "_defaultOrder": 51,
    "_isFastLaunch": false,
    "category": "Accelerated computing",
    "gpuNum": 4,
    "memoryGiB": 192,
    "name": "ml.g5.12xlarge",
    "vcpuNum": 48
   },
   {
    "_defaultOrder": 52,
    "_isFastLaunch": false,
    "category": "Accelerated computing",
    "gpuNum": 4,
    "memoryGiB": 384,
    "name": "ml.g5.24xlarge",
    "vcpuNum": 96
   },
   {
    "_defaultOrder": 53,
    "_isFastLaunch": false,
    "category": "Accelerated computing",
    "gpuNum": 8,
    "memoryGiB": 768,
    "name": "ml.g5.48xlarge",
    "vcpuNum": 192
   }
  ],
  "instance_type": "ml.t3.medium",
  "kernelspec": {
   "display_name": "Python 3 (Data Science)",
   "language": "python",
   "name": "python3__SAGEMAKER_INTERNAL__arn:aws:sagemaker:us-east-1:081325390199:image/datascience-1.0"
  },
  "language_info": {
   "codemirror_mode": {
    "name": "ipython",
    "version": 3
   },
   "file_extension": ".py",
   "mimetype": "text/x-python",
   "name": "python",
   "nbconvert_exporter": "python",
   "pygments_lexer": "ipython3",
   "version": "3.7.10"
  }
 },
 "nbformat": 4,
 "nbformat_minor": 5
}
