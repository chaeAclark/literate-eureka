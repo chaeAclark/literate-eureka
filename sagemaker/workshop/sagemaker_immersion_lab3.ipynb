{
 "cells": [
  {
   "cell_type": "markdown",
   "id": "bf3017dd-e5fa-46f7-a5d8-d571610ea527",
   "metadata": {},
   "source": [
    "## Imports"
   ]
  },
  {
   "cell_type": "code",
   "execution_count": null,
   "id": "7536f1ee-72ab-4978-91d3-6d3a97fdaad3",
   "metadata": {
    "tags": []
   },
   "outputs": [],
   "source": [
    "import sagemaker as sm\n",
    "from sagemaker.spark.processing import PySparkProcessor"
   ]
  },
  {
   "cell_type": "markdown",
   "id": "5a7301ef-3791-48a5-850b-872f9ed0aa01",
   "metadata": {},
   "source": [
    "### SageMaker Parameters"
   ]
  },
  {
   "cell_type": "code",
   "execution_count": null,
   "id": "665b4553-b947-4e05-855e-411b8ea2c0ad",
   "metadata": {
    "tags": []
   },
   "outputs": [],
   "source": [
    "role              = sm.get_execution_role()\n",
    "sagemaker_session = sm.session.Session()\n",
    "region            = sagemaker_session._region_name\n",
    "bucket            = sagemaker_session.default_bucket()"
   ]
  },
  {
   "cell_type": "markdown",
   "id": "641b235b-61c1-41f7-8fad-53ed4e61c5c1",
   "metadata": {},
   "source": [
    "### Create PySpark Script"
   ]
  },
  {
   "cell_type": "code",
   "execution_count": null,
   "id": "3792d977-14fa-46e2-a1e3-cebd8eacea4b",
   "metadata": {},
   "outputs": [],
   "source": [
    "%%writefile ./data_processing_pyspark.py\n",
    "\n",
    "import sys\n",
    "import pyspark\n",
    "\n",
    "from pyspark.ml import Pipeline\n",
    "from pyspark.sql import SparkSession\n",
    "from pyspark.sql.types import StructType\n",
    "from pyspark.sql.types import DoubleType\n",
    "from pyspark.sql.types import StructField\n",
    "from pyspark.sql.functions import *\n",
    "\n",
    "\n",
    "def main(args):\n",
    "    spark = SparkSession.builder.appName(\"PySparkApp\").getOrCreate()\n",
    "    spark.sparkContext._jsc.hadoopConfiguration().set(\n",
    "        \"mapred.output.committer.class\",\n",
    "        \"org.apache.hadoop.mapred.FileOutputCommitter\"\n",
    "    )\n",
    "    \n",
    "    schema = StructType(\n",
    "        [\n",
    "            StructField(\"column1\", DoubleType(), True),\n",
    "            \n",
    "        ]\n",
    "    )\n",
    "    # Place processing code here\n",
    "\n",
    "\n",
    "if __name__ == \"__main__\":\n",
    "    args = iter(sys.argv[1:])\n",
    "    args = dict(zip(args, args))\n",
    "    main(args)"
   ]
  },
  {
   "cell_type": "markdown",
   "id": "f7e0707c-b680-44da-bd6f-6fb51e52cdb5",
   "metadata": {},
   "source": [
    "### Set parameters to pass to the Spark Container"
   ]
  },
  {
   "cell_type": "code",
   "execution_count": null,
   "id": "3c8bbcec-f63c-4c86-8e10-d1dfb4c58454",
   "metadata": {},
   "outputs": [],
   "source": [
    "input_prefix_pyspark = 'csv_bucket'\n",
    "output_prefix_pyspark = 'csv_bucket_processed'\n",
    "spark_event_logs_s3_uri = f\"s3://{bucket}/data_processing/store-spark-events\""
   ]
  },
  {
   "cell_type": "markdown",
   "id": "df880a9a-f218-4857-b53c-3982bdd99247",
   "metadata": {},
   "source": [
    "### Create PySpark Processor"
   ]
  },
  {
   "cell_type": "code",
   "execution_count": null,
   "id": "c9439d89-cce5-495e-a2da-4ff3bfde8b22",
   "metadata": {},
   "outputs": [],
   "source": [
    "spark_processor = PySparkProcessor(\n",
    "    base_job_name=\"spark-preprocessor\",\n",
    "    framework_version=\"2.4\",\n",
    "    role=role,\n",
    "    instance_count=2,\n",
    "    instance_type=\"ml.m5.xlarge\",\n",
    "    max_runtime_in_seconds=1200,\n",
    "    env={\"mode\": \"python\"},\n",
    ")"
   ]
  },
  {
   "cell_type": "markdown",
   "id": "68eae541-e781-4615-92ef-9229a43c87b1",
   "metadata": {},
   "source": [
    "### Run PySpark Processing Job"
   ]
  },
  {
   "cell_type": "code",
   "execution_count": null,
   "id": "7d894abe-e08c-4412-8c72-e02063744622",
   "metadata": {
    "tags": []
   },
   "outputs": [],
   "source": [
    "spark_processor.run(\n",
    "    submit_app=\"data_processing_pyspark.py\",\n",
    "    arguments=\n",
    "    [\n",
    "        's3_input_bucket', bucket,\n",
    "        's3_input_key_prefix', input_prefix_pyspark,\n",
    "        's3_output_bucket', bucket,\n",
    "        's3_output_key_prefix', output_prefix_pyspark\n",
    "    ],\n",
    "    spark_event_logs_s3_uri=spark_event_logs_s3_uri\n",
    ")"
   ]
  },
  {
   "cell_type": "code",
   "execution_count": null,
   "id": "d6c6ae04-c81e-48db-9249-362c9f3a9d4d",
   "metadata": {},
   "outputs": [],
   "source": []
  }
 ],
 "metadata": {
  "instance_type": "ml.m5.large",
  "kernelspec": {
   "display_name": "Python 3 (Data Science)",
   "language": "python",
   "name": "python3__SAGEMAKER_INTERNAL__arn:aws:sagemaker:us-east-1:081325390199:image/datascience-1.0"
  },
  "language_info": {
   "codemirror_mode": {
    "name": "ipython",
    "version": 3
   },
   "file_extension": ".py",
   "mimetype": "text/x-python",
   "name": "python",
   "nbconvert_exporter": "python",
   "pygments_lexer": "ipython3",
   "version": "3.7.10"
  }
 },
 "nbformat": 4,
 "nbformat_minor": 5
}
