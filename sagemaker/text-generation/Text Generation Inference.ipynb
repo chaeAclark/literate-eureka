{
 "cells": [
  {
   "cell_type": "markdown",
   "id": "a859cc49-1505-493d-a7a2-6c9cf842d51a",
   "metadata": {},
   "source": [
    "# Imports and Installs"
   ]
  },
  {
   "cell_type": "markdown",
   "id": "c2ee4b2a-328c-4577-bc0c-bf2ff4ee135e",
   "metadata": {},
   "source": [
    "#### General Imports\n",
    "\n",
    "The only package that we need here (outside of SageMaker jobs) will be pandas and date utilities."
   ]
  },
  {
   "cell_type": "code",
   "execution_count": 12,
   "id": "7656f624-03df-4838-a030-ee72d98a7686",
   "metadata": {},
   "outputs": [],
   "source": [
    "import os\n",
    "import pickle\n",
    "import pandas as pd\n",
    "from datetime import date"
   ]
  },
  {
   "cell_type": "markdown",
   "id": "bf9a56c0-47ad-40de-8006-3c5107bf0b78",
   "metadata": {},
   "source": [
    "#### SageMaker Imports\n",
    "\n",
    "For inference, the only packages we need is the PyTorch Estimator/Model"
   ]
  },
  {
   "cell_type": "code",
   "execution_count": 3,
   "id": "eec0316d-3934-4869-8c6b-bf7f951a6d86",
   "metadata": {},
   "outputs": [],
   "source": [
    "import sagemaker as sm\n",
    "from sagemaker.pytorch import PyTorchModel"
   ]
  },
  {
   "cell_type": "markdown",
   "id": "6e81ed8a-bf2b-4d7d-b8b4-6fc01c04bfc9",
   "metadata": {},
   "source": [
    "#### SageMaker Parameters\n",
    "\n",
    "We will set any parameters we need to pass to the model."
   ]
  },
  {
   "cell_type": "code",
   "execution_count": 4,
   "id": "b3dcd42d-6a7e-4d1b-92a6-0718e3284a8e",
   "metadata": {},
   "outputs": [],
   "source": [
    "today             = date.today()\n",
    "today_str         = today.strftime('%Y-%m-%d')\n",
    "role              = sm.get_execution_role()\n",
    "sagemaker_session = sm.session.Session()\n",
    "region            = sagemaker_session._region_name\n",
    "bucket            = sagemaker_session.default_bucket()"
   ]
  },
  {
   "cell_type": "markdown",
   "id": "856c0dbb-ee44-4491-b9dc-cd2762b911f1",
   "metadata": {},
   "source": [
    "#### Requirements File\n",
    "\n",
    "This cell creates a requirements.txt file for any needed packages. The only package we need here is the transformers library."
   ]
  },
  {
   "cell_type": "code",
   "execution_count": 5,
   "id": "6fa9a6e2-7bf9-4ec8-8942-c71b9f43b59f",
   "metadata": {},
   "outputs": [],
   "source": [
    "path = './source_dir'\n",
    "try: \n",
    "    os.mkdir(path) \n",
    "except OSError as error: \n",
    "    pass"
   ]
  },
  {
   "cell_type": "code",
   "execution_count": 6,
   "id": "2cea35e2-ef75-46a6-94c4-6107d84f0a8d",
   "metadata": {},
   "outputs": [
    {
     "name": "stdout",
     "output_type": "stream",
     "text": [
      "Overwriting ./source_dir/requirements.txt\n"
     ]
    }
   ],
   "source": [
    "%%writefile ./source_dir/requirements.txt\n",
    "transformers"
   ]
  },
  {
   "cell_type": "markdown",
   "id": "f05f2b19-7cb4-4a34-85f5-58f919ec7136",
   "metadata": {},
   "source": [
    "# Create Inference Script\n",
    "When adding our custom model for inference, we can overwrite functions around data input/output and prediction.\n",
    "For real-time prediction, the methods we will overwrite are:\n",
    "1. `input_fn(request_body, request_content_type)`\n",
    "2. `output_fn(prediction, response_content_type)`\n",
    "3. `model_fn(model_dir)`\n",
    "4. `predict_fn(input_object, model)`"
   ]
  },
  {
   "cell_type": "code",
   "execution_count": 7,
   "id": "6e4751c2-303f-4242-a882-30ce88eb77b4",
   "metadata": {},
   "outputs": [
    {
     "name": "stdout",
     "output_type": "stream",
     "text": [
      "Overwriting ./source_dir/medical_language_endpoint_cpu.py\n"
     ]
    }
   ],
   "source": [
    "%%writefile ./source_dir/medical_language_endpoint_cpu.py\n",
    "\n",
    "import os\n",
    "import joblib\n",
    "import argparse\n",
    "import torch\n",
    "\n",
    "from torch.utils.data import Dataset\n",
    "from torch.utils.data import DataLoader\n",
    "from torch.utils.data import RandomSampler\n",
    "from torch.utils.data import SequentialSampler\n",
    "\n",
    "from transformers import GPT2LMHeadModel\n",
    "from transformers import GPT2Config\n",
    "from transformers import AutoTokenizer\n",
    "\n",
    "\n",
    "DEVICE = torch.device('cpu')\n",
    "MODELNAME = '20230112_distilgpt2_medical_generator'\n",
    "\n",
    "def input_fn(request_body, request_content_type):\n",
    "    if request_content_type == 'text/csv':\n",
    "        return request_body\n",
    "    else:\n",
    "        return 'Letters | '\n",
    "\n",
    "\n",
    "def output_fn(prediction, response_content_type):\n",
    "    return str(prediction)\n",
    "\n",
    "\n",
    "def model_fn(model_dir):\n",
    "    model_path = os.path.join(model_dir, MODELNAME)\n",
    "    model = GPT2LMHeadModel.from_pretrained(model_path)\n",
    "    tokenizer = AutoTokenizer.from_pretrained(model_path, bos_token='<|startoftext|>', eos_token='<|endoftext|>', pad_token='<|pad|>')\n",
    "    model_dict = {'model': model, 'tokenizer':tokenizer}\n",
    "    return model_dict\n",
    "\n",
    "\n",
    "def predict_fn(input_object, model):\n",
    "    prompt = input_object\n",
    "    prompt = torch.tensor(model['tokenizer'].encode(prompt)).unsqueeze(0)\n",
    "    prompt = prompt.to(DEVICE)\n",
    "    response = model['model'].generate(\n",
    "        prompt,\n",
    "        do_sample=True,\n",
    "        top_k=75,\n",
    "        max_length=300,\n",
    "        top_p=0.99,\n",
    "        num_return_sequences=1\n",
    "    )\n",
    "    response = [model['tokenizer'].decode(x, skip_special_tokens=True).replace(input_object, '') for x in response][0]\n",
    "    return response"
   ]
  },
  {
   "cell_type": "markdown",
   "id": "bc59c9be-90a7-4a19-8c45-37e21b3ab34c",
   "metadata": {},
   "source": [
    "### Inference Parameters\n",
    "\n"
   ]
  },
  {
   "cell_type": "code",
   "execution_count": 9,
   "id": "360cdae4-731f-4205-862c-0c828b17170a",
   "metadata": {},
   "outputs": [],
   "source": [
    "trials = 2\n",
    "instance_type = 'ml.m4.xlarge'\n",
    "model_data    = f's3://{bucket}/distilGPT-Training-Job-test-2023-01-18-23-12-15-239/output/model.tar.gz'\n",
    "endpoint_name = f'distilGPT-Medical-Endpoint-{today_str}'\n",
    "\n",
    "model = PyTorchModel(\n",
    "    model_data=model_data,\n",
    "    role=role,\n",
    "    source_dir='./source_dir',\n",
    "    entry_point='medical_language_endpoint_cpu.py',\n",
    "    framework_version='1.8',\n",
    "    py_version='py3',\n",
    ")"
   ]
  },
  {
   "cell_type": "markdown",
   "id": "e7fca951-f54d-42fe-b10b-5f73adde9208",
   "metadata": {},
   "source": [
    "#### Deploy Endpoint"
   ]
  },
  {
   "cell_type": "code",
   "execution_count": 10,
   "id": "a4e5aef5-db36-45bf-94d6-91fb05565ccb",
   "metadata": {},
   "outputs": [
    {
     "name": "stdout",
     "output_type": "stream",
     "text": [
      "---------!"
     ]
    }
   ],
   "source": [
    "endpoint = model.deploy(\n",
    "    initial_instance_count=1,\n",
    "    instance_type=instance_type,\n",
    "    endpoint_name=endpoint_name,\n",
    ")"
   ]
  },
  {
   "cell_type": "markdown",
   "id": "5f087c95-db27-42ea-954c-cfb521bef97a",
   "metadata": {},
   "source": [
    "# Generate Examples\n",
    "\n",
    "We can now use `invoke_endpoint()` to generate text."
   ]
  },
  {
   "cell_type": "code",
   "execution_count": 13,
   "id": "7cfd9828-a2cf-4224-8975-f0bdf5181b87",
   "metadata": {},
   "outputs": [
    {
     "name": "stdout",
     "output_type": "stream",
     "text": [
      " Allergy / Immunology\n",
      " Bariatrics\n",
      " Cardiovascular / Pulmonary\n",
      " Dentistry\n",
      " Urology\n",
      " General Medicine\n",
      " Surgery\n",
      " Speech - Language\n",
      " SOAP / Chart / Progress Notes\n",
      " Sleep Medicine\n",
      " Rheumatology\n",
      " Radiology\n",
      " Psychiatry / Psychology\n",
      " Podiatry\n",
      " Physical Medicine - Rehab\n",
      " Pediatrics - Neonatal\n",
      " Pain Management\n",
      " Orthopedic\n",
      " Ophthalmology\n",
      " Office Notes\n",
      " Obstetrics / Gynecology\n",
      " Neurosurgery\n",
      " Neurology\n",
      " Nephrology\n",
      " Letters\n",
      " Lab Medicine - Pathology\n",
      " IME-QME-Work Comp etc.\n",
      " Hospice - Palliative Care\n",
      " Hematology - Oncology\n",
      " Gastroenterology\n",
      " ENT - Otolaryngology\n",
      " Endocrinology\n",
      " Emergency Room Reports\n",
      " Discharge Summary\n",
      " Diets and Nutritions\n",
      " Dermatology\n",
      " Cosmetic / Plastic Surgery\n",
      " Consult - History and Phy.\n",
      " Chiropractic\n"
     ]
    },
    {
     "data": {
      "text/html": [
       "<div>\n",
       "<style scoped>\n",
       "    .dataframe tbody tr th:only-of-type {\n",
       "        vertical-align: middle;\n",
       "    }\n",
       "\n",
       "    .dataframe tbody tr th {\n",
       "        vertical-align: top;\n",
       "    }\n",
       "\n",
       "    .dataframe thead th {\n",
       "        text-align: right;\n",
       "    }\n",
       "</style>\n",
       "<table border=\"1\" class=\"dataframe\">\n",
       "  <thead>\n",
       "    <tr style=\"text-align: right;\">\n",
       "      <th></th>\n",
       "      <th>medical_specialty</th>\n",
       "      <th>description</th>\n",
       "    </tr>\n",
       "  </thead>\n",
       "  <tbody>\n",
       "    <tr>\n",
       "      <th>0</th>\n",
       "      <td>Allergy / Immunology</td>\n",
       "      <td>A 23-year-old white female presents with comp...</td>\n",
       "    </tr>\n",
       "    <tr>\n",
       "      <th>1</th>\n",
       "      <td>Allergy / Immunology</td>\n",
       "      <td>A 23-year-old white female presents with comp...</td>\n",
       "    </tr>\n",
       "    <tr>\n",
       "      <th>2</th>\n",
       "      <td>Bariatrics</td>\n",
       "      <td>Patient with a diagnosis of pancreatitis, dev...</td>\n",
       "    </tr>\n",
       "    <tr>\n",
       "      <th>3</th>\n",
       "      <td>Bariatrics</td>\n",
       "      <td>Patient with a family history of premature co...</td>\n",
       "    </tr>\n",
       "    <tr>\n",
       "      <th>4</th>\n",
       "      <td>Cardiovascular / Pulmonary</td>\n",
       "      <td>Echocardiographic Examination Report.   Angin...</td>\n",
       "    </tr>\n",
       "    <tr>\n",
       "      <th>...</th>\n",
       "      <td>...</td>\n",
       "      <td>...</td>\n",
       "    </tr>\n",
       "    <tr>\n",
       "      <th>73</th>\n",
       "      <td>Cosmetic / Plastic Surgery</td>\n",
       "      <td>Belly button piercing for insertion of belly ...</td>\n",
       "    </tr>\n",
       "    <tr>\n",
       "      <th>74</th>\n",
       "      <td>Consult - History and Phy.</td>\n",
       "      <td>The patient is a 16-month-old boy, who had a ...</td>\n",
       "    </tr>\n",
       "    <tr>\n",
       "      <th>75</th>\n",
       "      <td>Consult - History and Phy.</td>\n",
       "      <td>An 84-year-old woman with a history of hypert...</td>\n",
       "    </tr>\n",
       "    <tr>\n",
       "      <th>76</th>\n",
       "      <td>Chiropractic</td>\n",
       "      <td>Extractable epilepsy, here for video EEG.</td>\n",
       "    </tr>\n",
       "    <tr>\n",
       "      <th>77</th>\n",
       "      <td>Chiropractic</td>\n",
       "      <td>Acute acalculous cholecystitis.  Open cholecy...</td>\n",
       "    </tr>\n",
       "  </tbody>\n",
       "</table>\n",
       "<p>78 rows × 2 columns</p>\n",
       "</div>"
      ],
      "text/plain": [
       "              medical_specialty  \\\n",
       "0          Allergy / Immunology   \n",
       "1          Allergy / Immunology   \n",
       "2                    Bariatrics   \n",
       "3                    Bariatrics   \n",
       "4    Cardiovascular / Pulmonary   \n",
       "..                          ...   \n",
       "73   Cosmetic / Plastic Surgery   \n",
       "74   Consult - History and Phy.   \n",
       "75   Consult - History and Phy.   \n",
       "76                 Chiropractic   \n",
       "77                 Chiropractic   \n",
       "\n",
       "                                          description  \n",
       "0    A 23-year-old white female presents with comp...  \n",
       "1    A 23-year-old white female presents with comp...  \n",
       "2    Patient with a diagnosis of pancreatitis, dev...  \n",
       "3    Patient with a family history of premature co...  \n",
       "4    Echocardiographic Examination Report.   Angin...  \n",
       "..                                                ...  \n",
       "73   Belly button piercing for insertion of belly ...  \n",
       "74   The patient is a 16-month-old boy, who had a ...  \n",
       "75   An 84-year-old woman with a history of hypert...  \n",
       "76          Extractable epilepsy, here for video EEG.  \n",
       "77   Acute acalculous cholecystitis.  Open cholecy...  \n",
       "\n",
       "[78 rows x 2 columns]"
      ]
     },
     "execution_count": 13,
     "metadata": {},
     "output_type": "execute_result"
    }
   ],
   "source": [
    "labels = pickle.load(open('labels.pkl', 'rb'))\n",
    "generated_samples = []\n",
    "generated_labels = []\n",
    "\n",
    "\n",
    "for lbl in labels:\n",
    "    print(lbl)\n",
    "    prompt = lbl + ' | '\n",
    "    for _ in range(trials):\n",
    "        response = sagemaker_session.sagemaker_runtime_client.invoke_endpoint(EndpointName=endpoint_name, Body=prompt.encode(encoding=\"ascii\"), ContentType=\"text/csv\")\n",
    "        try:\n",
    "            generated_samples.append(response['Body'].read().decode('ascii'))\n",
    "        except:\n",
    "            generated_samples.append('')\n",
    "        generated_labels.append(lbl)\n",
    "df_generated = pd.DataFrame({'medical_specialty':generated_labels, 'description':generated_samples})\n",
    "df_generated"
   ]
  },
  {
   "cell_type": "markdown",
   "id": "8f2680b3-c5ce-4e19-b02a-3df6a684e8fd",
   "metadata": {},
   "source": [
    "#### Delete Endpoint"
   ]
  },
  {
   "cell_type": "code",
   "execution_count": 14,
   "id": "cae81ab8-f5a4-4a02-aa49-65af93f26849",
   "metadata": {
    "tags": []
   },
   "outputs": [],
   "source": [
    "endpoint.delete_endpoint(delete_endpoint_config=True)"
   ]
  },
  {
   "cell_type": "code",
   "execution_count": null,
   "id": "0df7f799-9bf9-4fee-8093-ff8d1f46651d",
   "metadata": {},
   "outputs": [],
   "source": []
  }
 ],
 "metadata": {
  "instance_type": "ml.t3.medium",
  "kernelspec": {
   "display_name": "Python 3 (Data Science)",
   "language": "python",
   "name": "python3__SAGEMAKER_INTERNAL__arn:aws:sagemaker:us-east-1:081325390199:image/datascience-1.0"
  },
  "language_info": {
   "codemirror_mode": {
    "name": "ipython",
    "version": 3
   },
   "file_extension": ".py",
   "mimetype": "text/x-python",
   "name": "python",
   "nbconvert_exporter": "python",
   "pygments_lexer": "ipython3",
   "version": "3.7.10"
  }
 },
 "nbformat": 4,
 "nbformat_minor": 5
}
