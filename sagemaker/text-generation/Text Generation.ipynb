{
 "cells": [
  {
   "cell_type": "markdown",
   "id": "4825ad8a-974d-4879-91fa-38362052018a",
   "metadata": {},
   "source": [
    "## Data Preparation"
   ]
  },
  {
   "cell_type": "markdown",
   "id": "6be0a5ce-ca35-43f8-91e1-4d996ec3bea3",
   "metadata": {},
   "source": [
    "#### Installs"
   ]
  },
  {
   "cell_type": "code",
   "execution_count": 1,
   "id": "c90cfbfb-c291-488c-bdb2-016fa3056b5b",
   "metadata": {
    "tags": []
   },
   "outputs": [
    {
     "name": "stdout",
     "output_type": "stream",
     "text": [
      "\u001b[33mWARNING: Running pip as the 'root' user can result in broken permissions and conflicting behaviour with the system package manager. It is recommended to use a virtual environment instead: https://pip.pypa.io/warnings/venv\u001b[0m\n"
     ]
    }
   ],
   "source": [
    "!pip install transformers -q"
   ]
  },
  {
   "cell_type": "markdown",
   "id": "1cc0bf3e-95ff-42fa-a9ca-742ccf1bdfbc",
   "metadata": {},
   "source": [
    "#### Imports"
   ]
  },
  {
   "cell_type": "code",
   "execution_count": 2,
   "id": "2b89db94-02c0-40eb-a651-963a19015153",
   "metadata": {},
   "outputs": [],
   "source": [
    "import time\n",
    "import torch\n",
    "import random\n",
    "import numpy as np\n",
    "import pandas as pd\n",
    "\n",
    "from torch.optim import AdamW\n",
    "\n",
    "from torch.utils.data import Dataset\n",
    "from torch.utils.data import DataLoader\n",
    "from torch.utils.data import RandomSampler\n",
    "from torch.utils.data import SequentialSampler\n",
    "\n",
    "from sklearn.model_selection import train_test_split\n",
    "\n",
    "from transformers import GPT2LMHeadModel\n",
    "from transformers import GPT2Config\n",
    "from transformers import AutoTokenizer\n",
    "from transformers import get_linear_schedule_with_warmup\n"
   ]
  },
  {
   "cell_type": "code",
   "execution_count": 3,
   "id": "2515dd43-45b3-402b-b88f-0010e88d14df",
   "metadata": {
    "tags": []
   },
   "outputs": [
    {
     "data": {
      "text/plain": [
       "<torch._C.Generator at 0x7f3606ac1e58>"
      ]
     },
     "execution_count": 3,
     "metadata": {},
     "output_type": "execute_result"
    }
   ],
   "source": [
    "RANDOM_STATE = 2023\n",
    "random.seed(RANDOM_STATE)\n",
    "np.random.seed(RANDOM_STATE)\n",
    "torch.manual_seed(RANDOM_STATE)"
   ]
  },
  {
   "cell_type": "markdown",
   "id": "8b54c9fb-8e59-485b-ba3e-f1b6e337fec0",
   "metadata": {},
   "source": [
    "#### Parameters"
   ]
  },
  {
   "cell_type": "code",
   "execution_count": 4,
   "id": "d694c328-b617-4e4d-bf61-14be524c0860",
   "metadata": {},
   "outputs": [],
   "source": [
    "device = torch.device(\"cpu\")\n",
    "\n",
    "test_size = 0.2\n",
    "valid_size = 0.5\n",
    "\n",
    "pretrained_path = 'distilgpt2'\n",
    "\n",
    "bos_token = '<|startoftext|>'\n",
    "eos_token = '<|endoftext|>'\n",
    "pad_token = '<|pad|>'\n",
    "\n",
    "batch_size = 2\n",
    "max_length = 128\n",
    "\n",
    "epochs = 10\n",
    "learning_rate = 5e-4\n",
    "warmup_steps = 1e2\n",
    "epsilon = 1e-8\n",
    "\n",
    "# this produces sample output every 100 steps\n",
    "sample_every = 100\n",
    "\n",
    "trials = 50"
   ]
  },
  {
   "cell_type": "markdown",
   "id": "91f875f9-486b-4355-9d9a-25a902503694",
   "metadata": {},
   "source": [
    "#### Classes"
   ]
  },
  {
   "cell_type": "code",
   "execution_count": 5,
   "id": "193d0d42-d3c4-4fb4-8163-043af76d1701",
   "metadata": {},
   "outputs": [],
   "source": [
    "class GPT2Dataset(Dataset):\n",
    "    def __init__(self, txt_list, tokenizer, gpt2_type=\"gpt2\", max_length=768, bos_token='<|startoftext|>', eos_token='<|endoftext|>'):\n",
    "        self.tokenizer = tokenizer\n",
    "        self.input_ids = []\n",
    "        self.attn_masks = []\n",
    "        \n",
    "        for txt in txt_list:\n",
    "            encodings_dict = tokenizer(bos_token + txt + eos_token, truncation=True, max_length=max_length, padding=\"max_length\")\n",
    "            self.input_ids.append(torch.tensor(encodings_dict['input_ids']))\n",
    "            self.attn_masks.append(torch.tensor(encodings_dict['attention_mask']))\n",
    "    \n",
    "    def __len__(self):\n",
    "        return len(self.input_ids)\n",
    "    \n",
    "    def __getitem__(self, idx):\n",
    "        return self.input_ids[idx], self.attn_masks[idx]"
   ]
  },
  {
   "cell_type": "markdown",
   "id": "5ea08404-be44-4065-ada9-af7dd018dc50",
   "metadata": {},
   "source": [
    "#### Data Load"
   ]
  },
  {
   "cell_type": "code",
   "execution_count": 6,
   "id": "1ec6f914-ee11-4ccd-87fd-71a30e7178d0",
   "metadata": {
    "tags": []
   },
   "outputs": [
    {
     "data": {
      "text/html": [
       "<div>\n",
       "<style scoped>\n",
       "    .dataframe tbody tr th:only-of-type {\n",
       "        vertical-align: middle;\n",
       "    }\n",
       "\n",
       "    .dataframe tbody tr th {\n",
       "        vertical-align: top;\n",
       "    }\n",
       "\n",
       "    .dataframe thead th {\n",
       "        text-align: right;\n",
       "    }\n",
       "</style>\n",
       "<table border=\"1\" class=\"dataframe\">\n",
       "  <thead>\n",
       "    <tr style=\"text-align: right;\">\n",
       "      <th></th>\n",
       "      <th>description</th>\n",
       "      <th>medical_specialty</th>\n",
       "      <th>sample_name</th>\n",
       "      <th>transcription</th>\n",
       "      <th>keywords</th>\n",
       "    </tr>\n",
       "  </thead>\n",
       "  <tbody>\n",
       "    <tr>\n",
       "      <th>0</th>\n",
       "      <td>A 23-year-old white female presents with comp...</td>\n",
       "      <td>Allergy / Immunology</td>\n",
       "      <td>Allergic Rhinitis</td>\n",
       "      <td>SUBJECTIVE:,  This 23-year-old white female pr...</td>\n",
       "      <td>allergy / immunology, allergic rhinitis, aller...</td>\n",
       "    </tr>\n",
       "    <tr>\n",
       "      <th>1</th>\n",
       "      <td>Consult for laparoscopic gastric bypass.</td>\n",
       "      <td>Bariatrics</td>\n",
       "      <td>Laparoscopic Gastric Bypass Consult - 2</td>\n",
       "      <td>PAST MEDICAL HISTORY:, He has difficulty climb...</td>\n",
       "      <td>bariatrics, laparoscopic gastric bypass, weigh...</td>\n",
       "    </tr>\n",
       "    <tr>\n",
       "      <th>2</th>\n",
       "      <td>Consult for laparoscopic gastric bypass.</td>\n",
       "      <td>Bariatrics</td>\n",
       "      <td>Laparoscopic Gastric Bypass Consult - 1</td>\n",
       "      <td>HISTORY OF PRESENT ILLNESS: , I have seen ABC ...</td>\n",
       "      <td>bariatrics, laparoscopic gastric bypass, heart...</td>\n",
       "    </tr>\n",
       "    <tr>\n",
       "      <th>3</th>\n",
       "      <td>2-D M-Mode. Doppler.</td>\n",
       "      <td>Cardiovascular / Pulmonary</td>\n",
       "      <td>2-D Echocardiogram - 1</td>\n",
       "      <td>2-D M-MODE: , ,1.  Left atrial enlargement wit...</td>\n",
       "      <td>cardiovascular / pulmonary, 2-d m-mode, dopple...</td>\n",
       "    </tr>\n",
       "    <tr>\n",
       "      <th>4</th>\n",
       "      <td>2-D Echocardiogram</td>\n",
       "      <td>Cardiovascular / Pulmonary</td>\n",
       "      <td>2-D Echocardiogram - 2</td>\n",
       "      <td>1.  The left ventricular cavity size and wall ...</td>\n",
       "      <td>cardiovascular / pulmonary, 2-d, doppler, echo...</td>\n",
       "    </tr>\n",
       "  </tbody>\n",
       "</table>\n",
       "</div>"
      ],
      "text/plain": [
       "                                         description  \\\n",
       "0   A 23-year-old white female presents with comp...   \n",
       "1           Consult for laparoscopic gastric bypass.   \n",
       "2           Consult for laparoscopic gastric bypass.   \n",
       "3                             2-D M-Mode. Doppler.     \n",
       "4                                 2-D Echocardiogram   \n",
       "\n",
       "             medical_specialty                                sample_name  \\\n",
       "0         Allergy / Immunology                         Allergic Rhinitis    \n",
       "1                   Bariatrics   Laparoscopic Gastric Bypass Consult - 2    \n",
       "2                   Bariatrics   Laparoscopic Gastric Bypass Consult - 1    \n",
       "3   Cardiovascular / Pulmonary                    2-D Echocardiogram - 1    \n",
       "4   Cardiovascular / Pulmonary                    2-D Echocardiogram - 2    \n",
       "\n",
       "                                       transcription  \\\n",
       "0  SUBJECTIVE:,  This 23-year-old white female pr...   \n",
       "1  PAST MEDICAL HISTORY:, He has difficulty climb...   \n",
       "2  HISTORY OF PRESENT ILLNESS: , I have seen ABC ...   \n",
       "3  2-D M-MODE: , ,1.  Left atrial enlargement wit...   \n",
       "4  1.  The left ventricular cavity size and wall ...   \n",
       "\n",
       "                                            keywords  \n",
       "0  allergy / immunology, allergic rhinitis, aller...  \n",
       "1  bariatrics, laparoscopic gastric bypass, weigh...  \n",
       "2  bariatrics, laparoscopic gastric bypass, heart...  \n",
       "3  cardiovascular / pulmonary, 2-d m-mode, dopple...  \n",
       "4  cardiovascular / pulmonary, 2-d, doppler, echo...  "
      ]
     },
     "execution_count": 6,
     "metadata": {},
     "output_type": "execute_result"
    }
   ],
   "source": [
    "df = pd.read_csv('mtsamples.csv', index_col=0).dropna().reset_index(drop=True)\n",
    "df.head()"
   ]
  },
  {
   "cell_type": "code",
   "execution_count": 7,
   "id": "ce469091-8ed9-4410-b3e1-55782ac37c91",
   "metadata": {
    "tags": []
   },
   "outputs": [
    {
     "name": "stdout",
     "output_type": "stream",
     "text": [
      "[' Allergy / Immunology', ' Bariatrics', ' Cardiovascular / Pulmonary', ' Dentistry', ' Urology', ' General Medicine', ' Surgery', ' Speech - Language', ' SOAP / Chart / Progress Notes', ' Sleep Medicine', ' Rheumatology', ' Radiology', ' Psychiatry / Psychology', ' Podiatry', ' Physical Medicine - Rehab', ' Pediatrics - Neonatal', ' Pain Management', ' Orthopedic', ' Ophthalmology', ' Office Notes', ' Obstetrics / Gynecology', ' Neurosurgery', ' Neurology', ' Nephrology', ' Letters', ' Lab Medicine - Pathology', ' IME-QME-Work Comp etc.', ' Hospice - Palliative Care', ' Hematology - Oncology', ' Gastroenterology', ' ENT - Otolaryngology', ' Endocrinology', ' Emergency Room Reports', ' Discharge Summary', ' Diets and Nutritions', ' Dermatology', ' Cosmetic / Plastic Surgery', ' Consult - History and Phy.', ' Chiropractic']\n"
     ]
    }
   ],
   "source": [
    "labels = list(df['medical_specialty'].drop_duplicates().dropna().values.ravel())\n",
    "print(labels)\n",
    "df = df['medical_specialty'] + ' | ' + df['description']"
   ]
  },
  {
   "cell_type": "markdown",
   "id": "8bfc12f4-08c3-4137-8b9f-59b7c524a27f",
   "metadata": {},
   "source": [
    "#### Data Processing"
   ]
  },
  {
   "cell_type": "code",
   "execution_count": null,
   "id": "be9e5100-c384-418b-99ce-07ced0557646",
   "metadata": {},
   "outputs": [],
   "source": []
  },
  {
   "cell_type": "code",
   "execution_count": 9,
   "id": "c1c029df-daea-4dd4-a8d3-da2f219b37d4",
   "metadata": {
    "tags": []
   },
   "outputs": [
    {
     "name": "stdout",
     "output_type": "stream",
     "text": [
      "3118\n",
      "390\n",
      "390\n"
     ]
    }
   ],
   "source": [
    "ids = list(df.index.drop_duplicates().values.ravel())\n",
    "id_train, id_test = train_test_split(ids, test_size=test_size, shuffle=True, random_state=RANDOM_STATE)\n",
    "id_test, id_valid = train_test_split(id_test, test_size=valid_size, shuffle=True, random_state=RANDOM_STATE)\n",
    "\n",
    "df_train = df[df.index.isin(id_train)]\n",
    "df_valid = df[df.index.isin(id_valid)]\n",
    "df_test = df[df.index.isin(id_test)]\n",
    "\n",
    "print(len(df_train))\n",
    "print(len(df_valid))\n",
    "print(len(df_test))"
   ]
  },
  {
   "cell_type": "markdown",
   "id": "7274a3ed-5531-49ab-9d03-f6e8a5f37292",
   "metadata": {},
   "source": [
    "#### Create Dataset"
   ]
  },
  {
   "cell_type": "code",
   "execution_count": 10,
   "id": "9c4f5167-5644-4279-aca2-9a2bcac11f5c",
   "metadata": {
    "tags": []
   },
   "outputs": [
    {
     "name": "stderr",
     "output_type": "stream",
     "text": [
      "Special tokens have been added in the vocabulary, make sure the associated word embeddings are fine-tuned or trained.\n"
     ]
    }
   ],
   "source": [
    "config = GPT2Config.from_pretrained(pretrained_path, output_hidden_states=False)\n",
    "tokenizer = AutoTokenizer.from_pretrained(pretrained_path, bos_token=bos_token, eos_token=eos_token, pad_token=pad_token)"
   ]
  },
  {
   "cell_type": "code",
   "execution_count": 11,
   "id": "6788707e-90ae-49c5-8d9e-acac370f25d0",
   "metadata": {},
   "outputs": [],
   "source": [
    "dataset_train = GPT2Dataset(df_train, tokenizer, max_length=max_length)\n",
    "dataset_valid = GPT2Dataset(df_valid, tokenizer, max_length=max_length)\n",
    "dataset_test = GPT2Dataset(df_test, tokenizer, max_length=max_length)\n",
    "\n",
    "dataloader_train = DataLoader(dataset_train, sampler=RandomSampler(dataset_train), batch_size=batch_size)\n",
    "dataloader_valid = DataLoader(dataset_valid, sampler=RandomSampler(dataset_valid), batch_size=batch_size)\n",
    "dataloader_test = DataLoader(dataset_test, sampler=SequentialSampler(dataset_test), batch_size=batch_size)"
   ]
  },
  {
   "cell_type": "markdown",
   "id": "9dfd17b5-e568-447e-ad89-57dbae7d2b92",
   "metadata": {},
   "source": [
    "#### Save Dataset"
   ]
  },
  {
   "cell_type": "code",
   "execution_count": 12,
   "id": "22175098-d832-4da2-bd45-9f1fef61b012",
   "metadata": {},
   "outputs": [],
   "source": [
    "torch.save(dataloader_train, './data_train.bin')\n",
    "torch.save(dataloader_valid, './data_valid.bin')\n",
    "torch.save(dataloader_test, './data_test.bin')"
   ]
  },
  {
   "cell_type": "markdown",
   "id": "0bdb03f0-d170-4110-933b-b87eee79cfc5",
   "metadata": {},
   "source": [
    "## Model Training"
   ]
  },
  {
   "cell_type": "markdown",
   "id": "b2d182d9-dde1-4066-a429-8124269583b4",
   "metadata": {},
   "source": [
    "#### Imports"
   ]
  },
  {
   "cell_type": "code",
   "execution_count": null,
   "id": "66bcdf3a-ebfe-452a-92c6-bbe436af8b89",
   "metadata": {},
   "outputs": [],
   "source": []
  },
  {
   "cell_type": "markdown",
   "id": "a24bab7a-fecd-4765-9917-7de625385166",
   "metadata": {},
   "source": [
    "#### Parameters"
   ]
  },
  {
   "cell_type": "code",
   "execution_count": null,
   "id": "c255ccff-823f-4e62-926f-8a04f1a1ff69",
   "metadata": {},
   "outputs": [],
   "source": []
  },
  {
   "cell_type": "markdown",
   "id": "5c0b7648-1de9-4841-8a0e-97fb862bc638",
   "metadata": {},
   "source": [
    "#### Classes"
   ]
  },
  {
   "cell_type": "code",
   "execution_count": null,
   "id": "08c53b73-1c29-44af-ab4d-a295d7a741eb",
   "metadata": {},
   "outputs": [],
   "source": []
  },
  {
   "cell_type": "markdown",
   "id": "2b82986e-c397-4dac-bb0d-18f32c9c0453",
   "metadata": {},
   "source": [
    "#### Load Dataset"
   ]
  },
  {
   "cell_type": "code",
   "execution_count": 13,
   "id": "dd557d07-37d2-4873-b339-eac6846e4dfc",
   "metadata": {
    "tags": []
   },
   "outputs": [],
   "source": [
    "dataloader_train = torch.load('./data_train.bin')\n",
    "dataloader_valid = torch.load('./data_valid.bin')\n",
    "dataloader_test = torch.load('./data_test.bin')"
   ]
  },
  {
   "cell_type": "markdown",
   "id": "17b6cd4a-4973-4c2d-aa89-65b2bee9fea4",
   "metadata": {},
   "source": [
    "#### Model Create"
   ]
  },
  {
   "cell_type": "code",
   "execution_count": 14,
   "id": "bb305eca-457d-4dc5-9cdc-ce8d985b5647",
   "metadata": {},
   "outputs": [],
   "source": [
    "model = GPT2LMHeadModel.from_pretrained(pretrained_path, config=config)\n",
    "model.resize_token_embeddings(len(tokenizer))\n",
    "model = model.to(device)"
   ]
  },
  {
   "cell_type": "code",
   "execution_count": 15,
   "id": "cba416d4-ce66-455a-9156-9c662c3e5784",
   "metadata": {},
   "outputs": [
    {
     "name": "stdout",
     "output_type": "stream",
     "text": [
      "15590\n"
     ]
    }
   ],
   "source": [
    "optimizer = AdamW(model.parameters(), lr=learning_rate, eps=epsilon)\n",
    "total_steps = len(dataloader_train) * epochs \n",
    "scheduler = get_linear_schedule_with_warmup(\n",
    "    optimizer,\n",
    "    num_warmup_steps=warmup_steps,\n",
    "    num_training_steps=total_steps\n",
    ")\n",
    "print(total_steps)"
   ]
  },
  {
   "cell_type": "markdown",
   "id": "dbb1862e-412a-4f0e-9556-cd80efc09ad5",
   "metadata": {},
   "source": [
    "#### Model Train"
   ]
  },
  {
   "cell_type": "code",
   "execution_count": null,
   "id": "8546a54c-d3d3-407a-9033-93b08b33a765",
   "metadata": {
    "collapsed": true,
    "jupyter": {
     "outputs_hidden": true
    },
    "tags": []
   },
   "outputs": [
    {
     "name": "stdout",
     "output_type": "stream",
     "text": [
      "[2023-01-18 23:12:51.941 1-8-1-cpu-py36-ml-t3-medium-05a4a7868130c7575335c53b16c7:12743 INFO utils.py:27] RULE_JOB_STOP_SIGNAL_FILENAME: None\n",
      "[2023-01-18 23:12:52.044 1-8-1-cpu-py36-ml-t3-medium-05a4a7868130c7575335c53b16c7:12743 INFO profiler_config_parser.py:102] Unable to find config at /opt/ml/input/config/profilerconfig.json. Profiler is disabled.\n",
      " Letters | \n",
      " Letters | \n",
      " Letters | \n",
      "\n",
      " Hematology - Oncology |  Progress in patient.\n",
      "\n",
      " Hematology - Oncology |  Colonoscopy | Bilateral cotterisomy of the lung chamber.  The patient is a very close and non-nervous bladder and an apparent hemoglobin deficiency.  Oncology | C4  Hematogenic C6 with his thorax, but for the right hemoglobin deficiency.\n",
      " Hematology - Oncology |  Ophthalmology and   Left End Endoscopy |  Endoscopy |  Right Endoscopy |   Left Endoscope of left anterior medial medial medial medial occipital anterior extremity of endoscopy.\n",
      "\n",
      " Letters |  Left upper lobe lobe lobe lobotomy.  Closed mid lobe lobe lobe and anterior lobotomy.\n",
      " Letters |  The Patient's History History and Phy. |   Allergicergic sympathetic dystrophy and dyspepsia, and of course, a biopsy, transaxillary hydroclavicular lesion, of the lesion, and of a biopsy of the patient.\n",
      " Letters |  Arthrogia coli conjunctival and mesothelioma, and dyslipidemia.  Ophthalmology  Lefecta, and hernia.  A middle-aged female had a carpal tunnel and hernia.  Cervical lymphoma with partial fusion, herneral-enlaterally, hemopormaloma, a low-lateral nerve mass, a common bilateral mesothelioma with hemoporal tube, and herniated herneral and dissection.  Shemaphlepatellar subdominal lymphoma, and sheni\n",
      "\n",
      " Obstetrics / Gynecology |  Chest tube insertion with percutaneous insertion.  Chest tube insertion without percutaneous insertion.  Chest tube insertion with percutaneous insertion\n",
      " Obstetrics / Gynecology |  Cystoscopy | and microsurgery for biopsy\n",
      " Obstetrics / Gynecology |  Abdomenal cystoscopy.  Abdomenal cystoscopy.\n",
      "\n",
      " Cosmetic / Plastic Surgery |  Adenotonsychial injury, right hand, and leg.\n",
      " Cosmetic / Plastic Surgery |  Normal mammogram.\n",
      " Cosmetic / Plastic Surgery |  Dermatoscopy, right breast.  Degenerative mammary artery disease.\n",
      "\n",
      " Neurosurgery |  Left heart catheterization.\n",
      " Neurosurgery |  MRI imaging of heart, left lower temporal artery bypass.  Excision CT coronary artery biopsy of heart.\n",
      " Neurosurgery |  T4-T5-T6-T6-T6-T6 T6, left frontal lobe and suboccipital lobe region, right temporal lobe.\n",
      "\n",
      " Surgery |  Trowar tendon tear and swelling.  The patient was found to have had tendon replacement at the time of the accident.  \n",
      " Surgery |  Patient with past medical history of breast cancer.\n",
      " Surgery |  Left foot, subdural effusions and ulnar effusions. \n",
      "\n",
      " Speech - Language |  Transverse transverse respiratory failure with nasal sinusitis, and bilateral nasal polyp at night time, status post excision by airway.\n",
      " Speech - Language |  Bilateral carpal tunnel syndrome and bilateral neuroplasty as well as bilateral spinal cord rupture of right eye.\n",
      " Speech - Language |  The patient is a 67-year-old female with prior history of severe headaches and congestion, now, she is; the patient comes in for a physical exam and.\n",
      "\n",
      " Office Notes |  Dietary consultation for diabetes.\n",
      " Office Notes |  Sample/template for a routine weight loss visit.  The patient had a routine daily normal weight loss and was well balanced.\n",
      "\n",
      " Office Notes |  The patient was admitted to the emergency room with nausea and vomiting.\n",
      "\n",
      " Diets and Nutritions |  Followup of laparoscopic cystoscopy with lavage and endoscopy utilizing a combination of Metzenbaum scissors and Marcaine-Texile.\n",
      " Diets and Nutritions |  A 9-week history of vomiting, diarrhea, and possible vomiting secondary to possible thyroid dysfunction.\n",
      " Diets and Nutritions |  An example of a 2-year-old boy with right eye infection.\n",
      "\n",
      " Discharge Summary |  This patient recently underwent a circumcision without endovascular function and left ventricle with endovascular function monitoring.   He is a 40-year-old male with significant edema and history of heart failure.  He was referred for further evaluation of hematoma - cardiac disease and is a 42-year-old male with cardiac function monitoring and cardiac function at the time of discharge.\n",
      " Discharge Summary |  Closed-charge summary.  Degenerative hypertrophy consistent with hypertrophy with the current episode.\n",
      " Discharge Summary |  Closed chest with internal screw release and open reduction and decompression and open reduction.  Closed chest with internal screw, but closed chest with internal screw closure with internal screw closure, and open reduction with internal screw closure.\n",
      "\n",
      " Office Notes |  Arthrotomy and ureteropelvic junction obstruction, right ureteripelvic junction obstruction, right ureteroplasty of fibroids, right ureterovuloplasty of fibrosophagia.\n",
      " Office Notes |  Patient with possible cholangiogram.\n",
      " Office Notes |  Patient with complaint of chest pain requiring oral examination.\n",
      "\n",
      " Radiology |  Consult for followup.  Axillary carcinoma.  Patient in a history of carcinoma.\n",
      " Radiology |  Patient with history of acute chest pain.\n",
      " Radiology |  Exploratory laparoscopy.  Exploratory laparoscopic, bilateral retroperitoneal laparoscopy, posterior pariosacral technique, and application of intraoperative instrumentation.\n",
      "\n",
      " Physical Medicine - Rehab |  Patient with a history of dysphagia and dysphagia that is causing him to come in by EMS with no associated complaints with his dysphagia. \n",
      " Physical Medicine - Rehab |  The patient with history of anxiety.  She states that she is doing well with her first stroke.  She is on a recent visit to Sleepope.  She presents with a three sided note. \n",
      " Physical Medicine - Rehab |  The patient presents with dysphagia and anxiety, dysphagia, weakness in her right middle ear, weakness in her right ear and history of acute otitis media, weakness in her right ear with recurrent otitis media.  Abnormal hydrocephalus, weakness in her right ear. \n",
      "\n",
      " Radiology |  Bilateral scrotum, bilateral lower quadrant abdominal pain.\n",
      " Radiology |  Bilateral myelogram and left breast.  The patient was referred to Medical Center's Outpatient.\n",
      " Radiology |  Dietary consultation for weight reduction with exercise.\n",
      "\n",
      " Bariatrics |  A 14-year-old male presented for treatment as a \"bad mom\" with some nausea.  This is a pleasant 8 weeks followup visit due to the presence of some local foods in the area.  The patient is a 12-day old infant in the field, who is now being examined for possible pathological changes in bowel enzymes and adhesions.\n",
      " Bariatrics |  Laparoscopic right salpingo-oophorectomy.  Normal right eye, right eye.  A large right eye lesion was located in the mid posterior aspect of the vision. \n",
      " Bariatrics |  An example/template for a routine normal male physical exam. \n",
      "\n",
      " Podiatry |  Anterior cervical discectomy, fusion C3-C4-C5, C5-C6; T11-C6.   Anterior cervical spine fusion C5-C6.  Anterior cervical spine fusion C5-C6.  A C5-C6 cervical spine fusion C6-C6.  Anterior cervical spine C4-C5 with cervical spondylosis and C5-C6.\n",
      " Podiatry |   Hernia, rheumatology, and lymphadenectomy.\n",
      " Podiatry |  The patient status postoperative for a modified stage IIIC diabetes.  An MRI showed a subdural effusion after a CT scan of the abdomen and pelvis with a CT of the abdomen and pelvis without contrast.  It was determined to be subdural.\n",
      "\n",
      " Nephrology |  Right common gallbladder tumor.\n",
      " Nephrology |  A 66-year-old white female with longstanding history of prostateative syndrome who has undergone surgery on her first tracheal resection from the operating room.  A 71-year-old male with history of prostate renal failure for approximately a year prior to the procedure. \n",
      " Nephrology |  Primary low-transverse cesarean section, right lower lid laceration from 0.5% laceration from 0.5%, intraocular lens implantation with lens implantation.  Microscopic wound care instructions were obtained.\n",
      "\n",
      " Urology |  Cystoscopy, photography, and transurethral resection of small bowel mass.   Laparoscopically, the patient was found to have a large perforation on her stool stool, which appeared to be intact in the stool.\n",
      " Urology |  Arteriovenous percutaneously percutaneously under direct direct current approaches. \n",
      " Urology |  Normal review of systems template.  No history of systems template.\n",
      "\n"
     ]
    }
   ],
   "source": [
    "for epoch_i in range(epochs):\n",
    "    model.train()\n",
    "    loss_total = 0.\n",
    "    \n",
    "    for step, batch in enumerate(dataloader_train):\n",
    "        model.zero_grad() \n",
    "        \n",
    "        ids_batch = batch[0].to(device)\n",
    "        labels_batch = batch[0].to(device)\n",
    "        mask_batch = batch[1].to(device)\n",
    "        \n",
    "        output = model(ids_batch, labels=labels_batch, attention_mask=mask_batch)\n",
    "        loss = output[0]\n",
    "        loss_batch = loss.item()\n",
    "        loss_total += loss_batch\n",
    "        \n",
    "        if (step % sample_every) == 0:\n",
    "            model.eval()\n",
    "            prompt_embedding = torch.tensor(tokenizer.encode(random.choice(labels) + ' | ')).unsqueeze(0).to(device)\n",
    "            generated_sample = model.generate(\n",
    "                prompt_embedding,\n",
    "                pad_token_id=50256,\n",
    "                do_sample=True,   \n",
    "                top_k=50, \n",
    "                max_length=128,\n",
    "                top_p=0.99, \n",
    "                num_return_sequences=3\n",
    "            )\n",
    "            for example in generated_sample:\n",
    "                generated_sample = tokenizer.decode(example, skip_special_tokens=True)\n",
    "                print(generated_sample)\n",
    "            print()\n",
    "            model.train()\n",
    "        \n",
    "        loss.backward()\n",
    "        optimizer.step()\n",
    "        scheduler.step()\n",
    "    avg_loss = loss_total / len(dataloader_train)\n",
    "print(f'Epochs:{epoch_i+1}; TotLoss:{loss_total};')"
   ]
  },
  {
   "cell_type": "markdown",
   "id": "686d241e-6cb6-4bbe-8485-7e5cca921924",
   "metadata": {},
   "source": [
    "#### Model Save"
   ]
  },
  {
   "cell_type": "code",
   "execution_count": null,
   "id": "18e3c385-be93-4ce7-8026-b6f826a66a26",
   "metadata": {},
   "outputs": [],
   "source": [
    "#model.save_pretrained(\"20230118_distilgpt2_medical_generator/\")\n",
    "#tokenizer.save_pretrained(\"20230118_distilgpt2_medical_generator/\")"
   ]
  },
  {
   "cell_type": "markdown",
   "id": "e0617dbd-119f-47dd-8a72-e71fcd0afcbc",
   "metadata": {},
   "source": [
    "#### Model Load"
   ]
  },
  {
   "cell_type": "code",
   "execution_count": 9,
   "id": "9c174d26-25f5-411f-b12b-8d06f820da2f",
   "metadata": {},
   "outputs": [],
   "source": [
    "tokenizer = AutoTokenizer.from_pretrained(\"20230118_distilgpt2_medical_generator\")\n",
    "config = GPT2Config.from_pretrained(\"20230118_distilgpt2_medical_generator\")\n",
    "model = GPT2LMHeadModel.from_pretrained(\"20230118_distilgpt2_medical_generator\", config=config)"
   ]
  },
  {
   "cell_type": "markdown",
   "id": "c5ca3529-cf17-40f1-a26b-c22d18817246",
   "metadata": {},
   "source": [
    "## Evaluate"
   ]
  },
  {
   "cell_type": "markdown",
   "id": "6d44b7b8-74cc-4703-978d-2e53138019e4",
   "metadata": {},
   "source": [
    "#### Imports"
   ]
  },
  {
   "cell_type": "code",
   "execution_count": null,
   "id": "45a0dfbb-a43c-4116-a030-e57f887539c6",
   "metadata": {},
   "outputs": [],
   "source": []
  },
  {
   "cell_type": "markdown",
   "id": "2848524c-186a-4dfa-991b-f60284a09ac5",
   "metadata": {},
   "source": [
    "#### Parameters"
   ]
  },
  {
   "cell_type": "code",
   "execution_count": null,
   "id": "1705e1a6-37bd-4194-9e7f-40d926cf3388",
   "metadata": {},
   "outputs": [],
   "source": []
  },
  {
   "cell_type": "markdown",
   "id": "773dbbd5-a8ca-4182-ad58-5ea958b67d39",
   "metadata": {},
   "source": [
    "#### Generate Examples"
   ]
  },
  {
   "cell_type": "code",
   "execution_count": 18,
   "id": "5fddc1f5-68d0-4176-8336-b444675df60a",
   "metadata": {},
   "outputs": [
    {
     "data": {
      "text/html": [
       "<div>\n",
       "<style scoped>\n",
       "    .dataframe tbody tr th:only-of-type {\n",
       "        vertical-align: middle;\n",
       "    }\n",
       "\n",
       "    .dataframe tbody tr th {\n",
       "        vertical-align: top;\n",
       "    }\n",
       "\n",
       "    .dataframe thead th {\n",
       "        text-align: right;\n",
       "    }\n",
       "</style>\n",
       "<table border=\"1\" class=\"dataframe\">\n",
       "  <thead>\n",
       "    <tr style=\"text-align: right;\">\n",
       "      <th></th>\n",
       "      <th>medical_specialty</th>\n",
       "      <th>description</th>\n",
       "    </tr>\n",
       "  </thead>\n",
       "  <tbody>\n",
       "    <tr>\n",
       "      <th>0</th>\n",
       "      <td>Allergy / Immunology</td>\n",
       "      <td>This is a 14-month-old baby boy Caucasian who...</td>\n",
       "    </tr>\n",
       "    <tr>\n",
       "      <th>1</th>\n",
       "      <td>Allergy / Immunology</td>\n",
       "      <td>Chronic glossitis, xerostomia, probable envir...</td>\n",
       "    </tr>\n",
       "    <tr>\n",
       "      <th>2</th>\n",
       "      <td>Allergy / Immunology</td>\n",
       "      <td>Sample/template for a normal female multisyst...</td>\n",
       "    </tr>\n",
       "    <tr>\n",
       "      <th>3</th>\n",
       "      <td>Allergy / Immunology</td>\n",
       "      <td>Chronic glossitis, xerostomia, probable envir...</td>\n",
       "    </tr>\n",
       "    <tr>\n",
       "      <th>4</th>\n",
       "      <td>Allergy / Immunology</td>\n",
       "      <td>Nissen fundoplication.  A 2 cm midline incisi...</td>\n",
       "    </tr>\n",
       "    <tr>\n",
       "      <th>...</th>\n",
       "      <td>...</td>\n",
       "      <td>...</td>\n",
       "    </tr>\n",
       "    <tr>\n",
       "      <th>1945</th>\n",
       "      <td>Chiropractic</td>\n",
       "      <td>MRI head without contrast.</td>\n",
       "    </tr>\n",
       "    <tr>\n",
       "      <th>1946</th>\n",
       "      <td>Chiropractic</td>\n",
       "      <td>Sample Radiology report of knee (growth arres...</td>\n",
       "    </tr>\n",
       "    <tr>\n",
       "      <th>1947</th>\n",
       "      <td>Chiropractic</td>\n",
       "      <td>Left shoulder pain. Evaluate for rotator cuff...</td>\n",
       "    </tr>\n",
       "    <tr>\n",
       "      <th>1948</th>\n",
       "      <td>Chiropractic</td>\n",
       "      <td>Right upper quadrant pain.  Nuclear medicine ...</td>\n",
       "    </tr>\n",
       "    <tr>\n",
       "      <th>1949</th>\n",
       "      <td>Chiropractic</td>\n",
       "      <td>Herniated nucleus pulposus C5-C6.  Anterior c...</td>\n",
       "    </tr>\n",
       "  </tbody>\n",
       "</table>\n",
       "<p>1950 rows × 2 columns</p>\n",
       "</div>"
      ],
      "text/plain": [
       "          medical_specialty                                        description\n",
       "0      Allergy / Immunology   This is a 14-month-old baby boy Caucasian who...\n",
       "1      Allergy / Immunology   Chronic glossitis, xerostomia, probable envir...\n",
       "2      Allergy / Immunology   Sample/template for a normal female multisyst...\n",
       "3      Allergy / Immunology   Chronic glossitis, xerostomia, probable envir...\n",
       "4      Allergy / Immunology   Nissen fundoplication.  A 2 cm midline incisi...\n",
       "...                     ...                                                ...\n",
       "1945           Chiropractic                         MRI head without contrast.\n",
       "1946           Chiropractic   Sample Radiology report of knee (growth arres...\n",
       "1947           Chiropractic   Left shoulder pain. Evaluate for rotator cuff...\n",
       "1948           Chiropractic   Right upper quadrant pain.  Nuclear medicine ...\n",
       "1949           Chiropractic   Herniated nucleus pulposus C5-C6.  Anterior c...\n",
       "\n",
       "[1950 rows x 2 columns]"
      ]
     },
     "execution_count": 18,
     "metadata": {},
     "output_type": "execute_result"
    }
   ],
   "source": [
    "model.eval()\n",
    "generated_samples = []\n",
    "generated_labels = []\n",
    "\n",
    "for lbl in labels:\n",
    "    for _ in range(trials):\n",
    "        prompt_start = lbl + ' | '\n",
    "        prompt = torch.tensor(tokenizer.encode(prompt_start)).unsqueeze(0)\n",
    "        prompt.to(device)\n",
    "        samples = model.generate(\n",
    "            prompt,\n",
    "            do_sample=True,\n",
    "            pad_token_id=50256,\n",
    "            top_k=75,\n",
    "            max_length=max_length,\n",
    "            top_p=.99,\n",
    "            num_return_sequences=1\n",
    "        )\n",
    "        samples = [tokenizer.decode(x, skip_special_tokens=True).replace(prompt_start, '') for x in samples]\n",
    "        generated_samples.extend(samples)\n",
    "    generated_labels.extend([lbl for _ in range(trials)])\n",
    "df_generated = pd.DataFrame({'medical_specialty':generated_labels, 'description':generated_samples})\n",
    "df_generated"
   ]
  },
  {
   "cell_type": "markdown",
   "id": "981fc716-c966-4be0-a893-3458bbb1bc3f",
   "metadata": {},
   "source": [
    "#### Save Generations"
   ]
  },
  {
   "cell_type": "code",
   "execution_count": 19,
   "id": "609956f9-e653-4d9f-8121-dd42912600da",
   "metadata": {},
   "outputs": [],
   "source": [
    "df_generated.drop_duplicates().to_csv('./mtsamples_generated.csv', sep=',')"
   ]
  }
 ],
 "metadata": {
  "instance_type": "ml.t3.medium",
  "kernelspec": {
   "display_name": "Python 3 (PyTorch 1.8 Python 3.6 CPU Optimized)",
   "language": "python",
   "name": "python3__SAGEMAKER_INTERNAL__arn:aws:sagemaker:us-east-1:081325390199:image/1.8.1-cpu-py36"
  },
  "language_info": {
   "codemirror_mode": {
    "name": "ipython",
    "version": 3
   },
   "file_extension": ".py",
   "mimetype": "text/x-python",
   "name": "python",
   "nbconvert_exporter": "python",
   "pygments_lexer": "ipython3",
   "version": "3.6.13"
  }
 },
 "nbformat": 4,
 "nbformat_minor": 5
}
